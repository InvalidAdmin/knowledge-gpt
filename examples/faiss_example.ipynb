{
 "cells": [
  {
   "cell_type": "code",
   "execution_count": 13,
   "metadata": {},
   "outputs": [],
   "source": [
    "from knowledgegpt.extractors.basic_extractor import BasicExtractor\n",
    "from knowledgegpt.utils.utils_scrape import scrape_content"
   ]
  },
  {
   "cell_type": "code",
   "execution_count": 14,
   "metadata": {},
   "outputs": [],
   "source": [
    "import openai\n",
    "from example_config import SECRET_KEY, MONGO_URI\n",
    "openai.api_key = SECRET_KEY"
   ]
  },
  {
   "cell_type": "code",
   "execution_count": 15,
   "metadata": {},
   "outputs": [],
   "source": [
    "df = scrape_content(\"https://en.wikipedia.org/wiki/Bombard_(weapon)\")"
   ]
  },
  {
   "cell_type": "code",
   "execution_count": 16,
   "metadata": {},
   "outputs": [],
   "source": [
    "from pymongo import MongoClient\n",
    "\n",
    "client  = MongoClient(MONGO_URI)\n",
    "db = client.openai_test"
   ]
  },
  {
   "cell_type": "code",
   "execution_count": 17,
   "metadata": {},
   "outputs": [],
   "source": [
    "basic_extractor = BasicExtractor(df, embedding_extractor=\"hf\", model_lang=\"en\", is_turbo=False )"
   ]
  },
  {
   "cell_type": "code",
   "execution_count": 18,
   "metadata": {},
   "outputs": [
    {
     "name": "stdout",
     "output_type": "stream",
     "text": [
      "Processing dataframe...\n",
      "Computing embeddings...\n",
      "Answering query...\n",
      "Answering query...\n",
      "model_lang en\n",
      "Selected 5 document sections:\n",
      "0\n",
      "33\n",
      "62\n",
      "60\n",
      "46\n",
      "Answer the question as truthfully as possible using the provided context, and if the answer is not contained within the text below, say \"I don't know.\"\n",
      "\n",
      "Context:\n",
      "\n",
      "* Bombard (weapon) - Wikipedia\n",
      "* Bombard (weapon)\n",
      "* Wikimedia Commons has media related to Bombards (weapon).\n",
      "* Bombard in its siege position, Denmark.\n",
      "* Terminology[edit] The term \"bombard\" was first used to describe guns of any kind from the early to mid-14th century, but it was later applied primarily to large cannons during the 14th to 15th centuries.[2] Despite its strong association with large cannons, there is no standard size for bombards, and the term has been applied to cannons only a meter in length as well as cannons several meters long weighing up to 20 tonnes.[3]\n",
      "\n",
      " Q: What is a bombard?\n",
      " A:\n",
      "Saving to MongoDB...\n",
      "Done!\n"
     ]
    }
   ],
   "source": [
    "answer, prompt, messages =basic_extractor.extract(\"What is a bombard?\", max_tokens=200, to_save=True, mongo_client=db)\n"
   ]
  },
  {
   "cell_type": "code",
   "execution_count": 19,
   "metadata": {},
   "outputs": [
    {
     "data": {
      "text/plain": [
       "'A bombard is a type of large cannon used during the 14th to 15th centuries.'"
      ]
     },
     "execution_count": 19,
     "metadata": {},
     "output_type": "execute_result"
    }
   ],
   "source": [
    "answer"
   ]
  },
  {
   "cell_type": "code",
   "execution_count": 20,
   "metadata": {},
   "outputs": [],
   "source": [
    "basic_extractor_faiss = BasicExtractor(df, embedding_extractor=\"hf\", model_lang=\"en\", is_turbo=False, index_type=\"faiss\")"
   ]
  },
  {
   "cell_type": "code",
   "execution_count": 21,
   "metadata": {},
   "outputs": [
    {
     "name": "stdout",
     "output_type": "stream",
     "text": [
      "Processing dataframe...\n",
      "Computing embeddings...\n",
      "Answering query...\n",
      "Answering query...\n",
      "model_lang en\n",
      "index.is_trained True\n",
      "index.ntotal 80\n",
      "document_similarities [(0.7784298, 0), (0.75433296, 33), (0.6752814, 62), (0.6735563, 46), (0.60986006, 60), (0.5976666, 67), (0.5913943, 45), (0.5671795, 50), (0.55945766, 48), (0.5578399, 61)]\n",
      "DONE, FAISS\n",
      "Selected 5 document sections:\n",
      "0\n",
      "33\n",
      "62\n",
      "46\n",
      "60\n",
      "Answer the question as truthfully as possible using the provided context, and if the answer is not contained within the text below, say \"I don't know.\"\n",
      "\n",
      "Context:\n",
      "\n",
      "* Bombard (weapon) - Wikipedia\n",
      "* Bombard (weapon)\n",
      "* Wikimedia Commons has media related to Bombards (weapon).\n",
      "* Terminology[edit] The term \"bombard\" was first used to describe guns of any kind from the early to mid-14th century, but it was later applied primarily to large cannons during the 14th to 15th centuries.[2] Despite its strong association with large cannons, there is no standard size for bombards, and the term has been applied to cannons only a meter in length as well as cannons several meters long weighing up to 20 tonnes.[3]\n",
      "* Bombard in its siege position, Denmark.\n",
      "\n",
      " Q: What is a bombard? Where were they used?\n",
      " A:\n",
      "Saving to MongoDB...\n",
      "Done!\n"
     ]
    }
   ],
   "source": [
    "answer, prompt, messages =basic_extractor_faiss.extract(\"What is a bombard? Where were they used?\", max_tokens=200, to_save=True, mongo_client=db)"
   ]
  },
  {
   "cell_type": "code",
   "execution_count": 22,
   "metadata": {},
   "outputs": [
    {
     "data": {
      "text/plain": [
       "'A bombard is a large cannon used during the 14th to 15th centuries. They were used in sieges.'"
      ]
     },
     "execution_count": 22,
     "metadata": {},
     "output_type": "execute_result"
    }
   ],
   "source": [
    "answer"
   ]
  },
  {
   "cell_type": "code",
   "execution_count": 23,
   "metadata": {},
   "outputs": [
    {
     "name": "stdout",
     "output_type": "stream",
     "text": [
      "Processing dataframe...\n",
      "Computing embeddings...\n",
      "Answering query...\n",
      "Answering query...\n",
      "model_lang en\n",
      "index.is_trained True\n",
      "index.ntotal 80\n",
      "document_similarities [(0.78060555, 0), (0.7581003, 33), (0.6795381, 46), (0.65691495, 62), (0.6060228, 67), (0.59958655, 45), (0.59451985, 60), (0.5683558, 50), (0.56209743, 48), (0.5539677, 61)]\n",
      "DONE, FAISS\n",
      "Selected 5 document sections:\n",
      "0\n",
      "33\n",
      "46\n",
      "62\n",
      "67\n",
      "Answer the question as truthfully as possible using the provided context, and if the answer is not contained within the text below, say \"I don't know.\"\n",
      "\n",
      "Context:\n",
      "\n",
      "* Bombard (weapon) - Wikipedia\n",
      "* Bombard (weapon)\n",
      "* Terminology[edit] The term \"bombard\" was first used to describe guns of any kind from the early to mid-14th century, but it was later applied primarily to large cannons during the 14th to 15th centuries.[2] Despite its strong association with large cannons, there is no standard size for bombards, and the term has been applied to cannons only a meter in length as well as cannons several meters long weighing up to 20 tonnes.[3]\n",
      "* Wikimedia Commons has media related to Bombards (weapon).\n",
      "* ^ Gwei-Djen, Lu; Needham, Joseph; Chi-Hsing, Phan (July 1988). \"The Oldest Representation of a Bombard\". Technology and Culture. 29 (3): 594–605. doi:10.2307/3105275. JSTOR 3105275.\n",
      "\n",
      " Q: What is a bombard? Where were they used? What is the stronger aspects\n",
      " A:\n",
      "Saving to MongoDB...\n",
      "Done!\n"
     ]
    }
   ],
   "source": [
    "answer, prompt, messages =basic_extractor_faiss.extract(\"What is a bombard? Where were they used? What is the stronger aspects\", max_tokens=400, to_save=True, mongo_client=db)"
   ]
  },
  {
   "cell_type": "code",
   "execution_count": 24,
   "metadata": {},
   "outputs": [
    {
     "data": {
      "text/plain": [
       "'A bombard is a large cannon used during the 14th to 15th centuries. They were used in warfare and sieges. Their strong points were their size and weight, which could be up to 20 tonnes and several meters long.'"
      ]
     },
     "execution_count": 24,
     "metadata": {},
     "output_type": "execute_result"
    }
   ],
   "source": [
    "answer"
   ]
  }
 ],
 "metadata": {
  "kernelspec": {
   "display_name": "knowledgegpt-env",
   "language": "python",
   "name": "python3"
  },
  "language_info": {
   "codemirror_mode": {
    "name": "ipython",
    "version": 3
   },
   "file_extension": ".py",
   "mimetype": "text/x-python",
   "name": "python",
   "nbconvert_exporter": "python",
   "pygments_lexer": "ipython3",
   "version": "3.9.16"
  },
  "orig_nbformat": 4
 },
 "nbformat": 4,
 "nbformat_minor": 2
}
