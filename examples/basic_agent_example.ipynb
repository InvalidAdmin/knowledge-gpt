{
 "cells": [
  {
   "cell_type": "code",
   "execution_count": 1,
   "metadata": {
    "collapsed": false
   },
   "outputs": [],
   "source": [
    "# !python3 -m spacy download en_core_web_sm"
   ]
  },
  {
   "cell_type": "code",
   "execution_count": 1,
   "metadata": {
    "collapsed": false
   },
   "outputs": [
    {
     "name": "stderr",
     "output_type": "stream",
     "text": [
      "/Users/eren/opt/anaconda3/envs/knowledgegpt-env/lib/python3.9/site-packages/tqdm/auto.py:21: TqdmWarning: IProgress not found. Please update jupyter and ipywidgets. See https://ipywidgets.readthedocs.io/en/stable/user_install.html\n",
      "  from .autonotebook import tqdm as notebook_tqdm\n",
      "/Users/eren/opt/anaconda3/envs/knowledgegpt-env/lib/python3.9/site-packages/pydub/utils.py:170: RuntimeWarning: Couldn't find ffmpeg or avconv - defaulting to ffmpeg, but may not work\n",
      "  warn(\"Couldn't find ffmpeg or avconv - defaulting to ffmpeg, but may not work\", RuntimeWarning)\n"
     ]
    }
   ],
   "source": [
    "from knowledgegpt.extractors.base_agent import BaseAgent\n",
    "from knowledgegpt.utils.utils_scrape import scrape_content"
   ]
  },
  {
   "cell_type": "code",
   "execution_count": 2,
   "metadata": {},
   "outputs": [],
   "source": [
    "import openai\n",
    "from local_example_config import SECRET_KEY, HF_TOKEN\n",
    "openai.api_key = SECRET_KEY"
   ]
  },
  {
   "cell_type": "code",
   "execution_count": 5,
   "metadata": {},
   "outputs": [],
   "source": [
    "base_agent = BaseAgent(embedding_extractor=\"hf\", model_lang=\"en\", is_turbo=True, index_type=\"basic\", hf_token=HF_TOKEN, info_topic=\"Baroque Painting\", info_source=\"wikipedia\")"
   ]
  },
  {
   "cell_type": "code",
   "execution_count": 6,
   "metadata": {},
   "outputs": [
    {
     "name": "stdout",
     "output_type": "stream",
     "text": [
      "Task Type:  image_generation\n",
      "Image Generation Task\n",
      "Computing embeddings...\n",
      "model_lang en\n",
      "Selected 45 document sections:\n",
      "41\n",
      "875\n",
      "908\n",
      "882\n",
      "874\n",
      "0\n",
      "186\n",
      "873\n",
      "877\n",
      "993\n",
      "854\n",
      "554\n",
      "114\n",
      "175\n",
      "679\n",
      "349\n",
      "135\n",
      "930\n",
      "103\n",
      "272\n",
      "245\n",
      "902\n",
      "456\n",
      "683\n",
      "214\n",
      "244\n",
      "462\n",
      "156\n",
      "169\n",
      "1010\n",
      "168\n",
      "926\n",
      "646\n",
      "964\n",
      "100\n",
      "246\n",
      "242\n",
      "22\n",
      "35\n",
      "920\n",
      "85\n",
      "220\n",
      "694\n",
      "652\n",
      "726\n",
      "\n",
      "        You are an image generation agent that can generate images based on a prompt. First I'll give you a context based on the question you ask. Then you can generate an image based on the user prompt.\n",
      "\n",
      "        Context: \n",
      "        \n",
      "* Baroque painting\n",
      "* 4Later Italian Baroque painting\n",
      "* Gallery of Italian Baroque art and sculpture[edit]\n",
      "* Italian Baroque art\n",
      "* 3Italian High Baroque painting\n",
      "* Baroque painting - Wikipedia\n",
      "* Spanish Baroque painting\n",
      "* 2The emergence of Italian baroque painting\n",
      "* 6Gallery of Italian Baroque art and sculpture\n",
      "* Wikimedia Commons has media related to Baroque frescos in Italy.\n",
      "* Italian Baroque art - Wikipedia\n",
      "* Wikimedia Commons has media related to Baroque art.\n",
      "* Flemish Baroque painting\n",
      "* Spanish Baroque painting - Wikipedia\n",
      "* 3History painting\n",
      "* Triumph of Bacchus and Adriane (part of The Loves of the Gods); by Annibale Carracci; c.1597–1600; fresco; length (gallery): 20.2 m; Palazzo Farnese, Rome[113]\n",
      "* Elegant company scenesEdit Paintings of elegant couples in the latest fashions, often with underlying themes of love or the five senses, were commonly painted by Hieronymus Francken the Younger, Louis de Caullery, Simon de Vos, David Teniers the Younger and David Ryckaert III. Rubens's Garden of Love (c. 1634–5; Prado Museum) belongs to these traditions.\n",
      "* ^ Wittower R. Art and Architecture in Italy 1600-1750, p. 330\n",
      "* Flemish Baroque painting - Wikipedia\n",
      "* Baroque\n",
      "* 2.5Portuguese Baroque\n",
      "* Italian art movement  Artemisia Gentileschi, Judith Slaying Holofernes, 1614–20, Oil on canvas 199 x 162 cm, Uffizi, Florence Italian Baroque art is a term that is used here to refer to Italian painting and sculpture in the Baroque manner executed over a period that extended from the late sixteenth to the mid eighteenth centuries.[1] Italian Baroque architecture is not covered.\n",
      "* ^ \"Age of the Baroque in Portugal\". www.nga.gov.\n",
      "* 7Maritime painting\n",
      "* Retrieved from \"https://en.wikipedia.org/w/index.php?title=Spanish_Baroque_painting&oldid=1125623892\"\n",
      "* 2.4French Baroque\n",
      "* ^ \"Architecture and the Baroque\". www.torredosclerigos.pt.\n",
      "* ^ Haskell, Francis (1993). \"Chapter 8\". Patrons and Painters: Art and Society in Baroque Italy. Yale University Press, pp. 132–134.\n",
      "* Retrieved from \"https://en.wikipedia.org/w/index.php?title=Flemish_Baroque_painting&oldid=1144718526\"\n",
      "* Venetian painting\n",
      "* Wikimedia Commons has media related to Flemish Baroque painters.\n",
      "* Other topics Italian architecture Sculpture of Italy Timeline of Italian artists to 1800 Raphael Rooms vte Italian Baroque Italian Baroque interior design Italian Baroque architecture References[edit]\n",
      "* Neo-Baroque\n",
      "* Illusionistic ceiling painting\n",
      "* Retrieved from \"https://en.wikipedia.org/w/index.php?title=Baroque_painting&oldid=1126479439\" Categories: Baroque paintingArt historyDutch Golden Age paintingsHidden categories: Webarchive template wayback linksArticles with short descriptionShort description is different from WikidataArticles needing additional references from February 2019All articles needing additional referencesPages using multiple image with auto scaled imagesArticles with BNE identifiersArticles with BNF identifiersArticles with BNFdata identifiersArticles with J9U identifiersArticles with LCCN identifiersArticles with LNB identifiersArticles with NKC identifiers\n",
      "* 2.6Russian Baroque\n",
      "* 2.2Spanish Baroque\n",
      "* 3Baroque painters\n",
      "* 4Gallery\n",
      "* Important art museums Uffizi Pinacoteca di Brera Vatican Museums Villa Borghese Sabauda Gallery Gallerie dell'Accademia Pitti Palace Accademia di Belle Arti Firenze Bargello\n",
      "* See also[edit] Baroque illusionistic painting History of painting Western painting Rococo Painting References[edit]\n",
      "* Baroque - Wikipedia\n",
      "* Dutch Golden Age painting\n",
      "* Neo-Baroque music Neo-Baroque painting Baroque Revival architecture Neo-Baroque film This disambiguation page lists  articles associated with the title Neo-Baroque.If an internal link led you here, you may wish to change the link to point directly to the intended article.\n",
      "* Scenes of everyday life[edit]  A typical Jan Steen picture (c. 1663); while the housewife sleeps, the household play[37] Scenes of everyday life, now called genre paintings, prominently feature figures to whom no specific identity can be attached – they are not portraits or intended as historical figures, but rather snapshots of quotidian life. Together with landscape painting, the development and enormous popularity of genre painting is the most distinctive feature of Dutch painting in this period, although in this case they were also very popular in Flemish painting. Many are single figures, such as Vermeer's The Milkmaid; others may show large groups at some social occasion, or crowds.  \"Seventeenth-century Holland produced more and better artists dedicated to genre painting with and without messages than any other nation.\"[38]  There were a large number of sub-types within the genre: single figures, peasant families, tavern scenes, \"merry company\" parties, women at work about the house, scenes of village or town festivities (though these were still more common in Flemish painting), market scenes, barracks scenes, scenes with horses or farm animals, in snow, by moonlight, and many more. In fact most of these had specific terms in Dutch, but there was no overall Dutch term equivalent to \"genre painting\" – until the late 18th century the English often called them \"drolleries\".[39] Some artists worked mostly within one of these sub-types, especially after about 1625.[40] Over the course of the century, genre paintings tended to reduce in size. Though genre paintings provide many insights into the daily life of 17th-century citizens of all classes, their accuracy cannot always be taken for granted.[41]  Typically they show what art historians term a \"reality effect\" rather than an actual realist depiction; the degree to which this is the case varies between artists.  Many paintings which seem only to depict everyday scenes actually illustrated Dutch proverbs and sayings or conveyed a moralistic message – the meaning of which may now need to be deciphered by art historians, though some are clear enough. Many artists, and no doubt purchasers, certainly tried to have things both ways, enjoying the depiction of disorderly households or brothel scenes, while providing a moral interpretation – the works of Jan Steen, whose other profession was as an innkeeper, are an example. The balance between these elements is still debated by art historians today.[42]\n",
      "        \n",
      "        Here are some examples context and image generation commands, you should embrace this style of commanding:\n",
      "        \"Forest wanderer, painterly style, flat colours, illustration, bright and colourful, high contrast, Mythology, cinematic, detailed, atmospheric, 8k, corona render.\",\n",
      "        \"Pixel collage painting of the last supper, feasting over pixelated ramen, painted by Mark Rothko and Hilma af Klint, neo expressionism, pastel colours, pop art, intricate detail, masterpiece, 8k\",\n",
      "        \"Sci-fi, cyberpunk, Tokyo at night in the rain, neon lights, flying cars, watercolour\",\n",
      "        \n",
      "        \n",
      "        Users question was: Generate the image, An 1080p image in baroque style, covered in flowers and has 3 person a mother and a kid around 4 years old in front of their village home\n",
      "        \n",
      "        Based on the user question and the context, you should generate an image generation command. You can use the following commands to generate an image, follow the format of the examples above do not form full sentences give directives:\n",
      "        You can enhance the question by adding details from the context if is present in the context.\n",
      "        \n",
      "all_done!\n",
      "Image Generated for prompt:Generate an 1080p image in Baroque style with a mother and a 4-year-old child standing in front of their village home, surrounded by flowers. Add intricate details to the house and the flowers to give a high level of realism.\n"
     ]
    }
   ],
   "source": [
    "answer = base_agent.agent_run(\"Generate the image, An 1080p image in baroque style, covered in flowers and has 3 person a mother and a kid around 4 years old in front of their village home\", max_tokens=2000, load_index=False)"
   ]
  },
  {
   "cell_type": "code",
   "execution_count": 7,
   "metadata": {},
   "outputs": [
    {
     "data": {
      "text/plain": [
       "'Saved to disk:c4c07769-e2f9-45f1-a1a1-584640be86c6.jpg'"
      ]
     },
     "execution_count": 7,
     "metadata": {},
     "output_type": "execute_result"
    }
   ],
   "source": [
    "answer"
   ]
  },
  {
   "cell_type": "code",
   "execution_count": 10,
   "metadata": {},
   "outputs": [],
   "source": [
    "base_agent = BaseAgent(info_source=\"wikipedia\", info_topic=\"pop art style\", embedding_extractor=\"hf\", model_lang=\"en\", is_turbo=True, index_type=\"basic\", hf_token=HF_TOKEN)"
   ]
  },
  {
   "cell_type": "code",
   "execution_count": 11,
   "metadata": {},
   "outputs": [
    {
     "name": "stdout",
     "output_type": "stream",
     "text": [
      "Task Type:  image_generation\n",
      "Image Generation Task\n",
      "Computing embeddings...\n",
      "model_lang en\n",
      "Selected 4 document sections:\n",
      "94\n",
      "716\n",
      "341\n",
      "693\n",
      "\n",
      "        You are an image generation agent that can generate images based on a prompt. First I'll give you a context based on the question you ask. Then you can generate an image based on the user prompt.\n",
      "\n",
      "        Context: \n",
      "        \n",
      "* Elegant company scenesEdit Paintings of elegant couples in the latest fashions, often with underlying themes of love or the five senses, were commonly painted by Hieronymus Francken the Younger, Louis de Caullery, Simon de Vos, David Teniers the Younger and David Ryckaert III. Rubens's Garden of Love (c. 1634–5; Prado Museum) belongs to these traditions.\n",
      "* Landscape with a worker's house, Frans Post\n",
      "* Resurrection of Christ; by Annibale Carracci; 1593; oil on canvas; 217 x 160 cm; Louvre[112]\n",
      "* Scenes of everyday lifeEdit   A typical Jan Steen picture (c. 1663); while the housewife sleeps, the household play[37] Scenes of everyday life, now called genre paintings, prominently feature figures to whom no specific identity can be attached – they are not portraits or intended as historical figures, but rather snapshots of quotidian life. Together with landscape painting, the development and enormous popularity of genre painting is the most distinctive feature of Dutch painting in this period, although in this case they were also very popular in Flemish painting. Many are single figures, such as Vermeer's The Milkmaid; others may show large groups at some social occasion, or crowds.  \"Seventeenth-century Holland produced more and better artists dedicated to genre painting with and without messages than any other nation.\"[38]  There were a large number of sub-types within the genre: single figures, peasant families, tavern scenes, \"merry company\" parties, women at work about the house, scenes of village or town festivities (though these were still more common in Flemish painting), market scenes, barracks scenes, scenes with horses or farm animals, in snow, by moonlight, and many more. In fact most of these had specific terms in Dutch, but there was no overall Dutch term equivalent to \"genre painting\" – until the late 18th century the English often called them \"drolleries\".[39] Some artists worked mostly within one of these sub-types, especially after about 1625.[40] Over the course of the century, genre paintings tended to reduce in size. Though genre paintings provide many insights into the daily life of 17th-century citizens of all classes, their accuracy cannot always be taken for granted.[41]  Typically they show what art historians term a \"reality effect\" rather than an actual realist depiction; the degree to which this is the case varies between artists.  Many paintings which seem only to depict everyday scenes actually illustrated Dutch proverbs and sayings or conveyed a moralistic message – the meaning of which may now need to be deciphered by art historians, though some are clear enough. Many artists, and no doubt purchasers, certainly tried to have things both ways, enjoying the depiction of disorderly households or brothel scenes, while providing a moral interpretation – the works of Jan Steen, whose other profession was as an innkeeper, are an example. The balance between these elements is still debated by art historians today.[42]   Gerrit van Honthorst (1625), punning visually on the lute in this brothel scene The titles given later to paintings often distinguish between \"taverns\" or \"inns\" and \"brothels\", but in practice these were very often the same establishments, as many taverns had rooms above or behind set aside for sexual purposes: \"Inn in front; brothel behind\" was a Dutch proverb.[43]The Steen above is very clearly an exemplum, and though each of the individual components of it is realistically depicted, the overall scene is not a plausible depiction of a real moment; typically of genre painting, it is a situation that is depicted, and satirized.[44]The Renaissance tradition of recondite emblem books had, in the hands of the 17th-century Dutch – almost universally literate in the vernacular, but mostly without education in the classics – turned into the popularist and highly moralistic works of Jacob Cats, Roemer Visscher, and others, often based in popular proverbs. The illustrations to these are often quoted directly in paintings, and since the start of the 20th century art historians have attached proverbs, sayings and mottoes to a great number of genre works. Another popular source of meaning is visual puns using the great number of Dutch slang terms in the sexual area: the vagina could be represented by a lute (luit) or stocking (kous), and sex by a bird (vogelen), among many other options,[45] and purely visual symbols such as shoes, spouts, and jugs and flagons on their side.\n",
      "        \n",
      "        Here are some examples context and image generation commands, you should embrace this style of commanding:\n",
      "        \"Forest wanderer, painterly style, flat colours, illustration, bright and colourful, high contrast, Mythology, cinematic, detailed, atmospheric, 8k, corona render.\",\n",
      "        \"Pixel collage painting of the last supper, feasting over pixelated ramen, painted by Mark Rothko and Hilma af Klint, neo expressionism, pastel colours, pop art, intricate detail, masterpiece, 8k\",\n",
      "        \"Sci-fi, cyberpunk, Tokyo at night in the rain, neon lights, flying cars, watercolour\",\n",
      "        \n",
      "        \n",
      "        Users question was: An 1080p image in popart style, covered in flowers and has 3 person a man a wife and a kid around 4 years old in front of their village home\n",
      "        \n",
      "        Based on the user question and the context, you should generate an image generation command. You can use the following commands to generate an image, follow the format of the examples above do not form full sentences give directives:\n",
      "        You can enhance the question by adding details from the context if is present in the context.\n",
      "        \n",
      "all_done!\n",
      "Image Generated for prompt:Popart style, 1080p, vibrant colours, flowers, family of three (man, wife, and 4-year-old child) standing in front of their village home, inspired by Dutch genre paintings.\n"
     ]
    }
   ],
   "source": [
    "answer = base_agent.agent_run(\"An 1080p image in popart style, covered in flowers and has 3 person a man a wife and a kid around 4 years old in front of their village home\", max_tokens=1000, load_index=False)"
   ]
  },
  {
   "cell_type": "code",
   "execution_count": 12,
   "metadata": {},
   "outputs": [
    {
     "data": {
      "text/plain": [
       "'Saved to disk:d2a8925c-80d0-4b86-bfa5-3d93af70e06d.jpg'"
      ]
     },
     "execution_count": 12,
     "metadata": {},
     "output_type": "execute_result"
    }
   ],
   "source": [
    "answer"
   ]
  }
 ],
 "metadata": {
  "kernelspec": {
   "display_name": "knowledgegpt-env",
   "language": "python",
   "name": "python3"
  },
  "language_info": {
   "codemirror_mode": {
    "name": "ipython",
    "version": 3
   },
   "file_extension": ".py",
   "mimetype": "text/x-python",
   "name": "python",
   "nbconvert_exporter": "python",
   "pygments_lexer": "ipython3",
   "version": "3.9.16"
  },
  "orig_nbformat": 4,
  "vscode": {
   "interpreter": {
    "hash": "d0285ce201951a37668925b1b7de032ac1583adb61d048d8a5dd45351727e09e"
   }
  }
 },
 "nbformat": 4,
 "nbformat_minor": 2
}
