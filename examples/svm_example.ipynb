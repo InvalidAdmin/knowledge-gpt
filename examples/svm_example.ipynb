{
 "cells": [
  {
   "cell_type": "code",
   "execution_count": 1,
   "metadata": {
    "collapsed": false
   },
   "outputs": [],
   "source": [
    "# !python3 -m spacy download en_core_web_sm"
   ]
  },
  {
   "cell_type": "code",
   "execution_count": 1,
   "metadata": {
    "collapsed": false
   },
   "outputs": [
    {
     "name": "stderr",
     "output_type": "stream",
     "text": [
      "/Users/eren/opt/anaconda3/envs/knowledgegpt-env/lib/python3.9/site-packages/tqdm/auto.py:21: TqdmWarning: IProgress not found. Please update jupyter and ipywidgets. See https://ipywidgets.readthedocs.io/en/stable/user_install.html\n",
      "  from .autonotebook import tqdm as notebook_tqdm\n",
      "/Users/eren/opt/anaconda3/envs/knowledgegpt-env/lib/python3.9/site-packages/pydub/utils.py:170: RuntimeWarning: Couldn't find ffmpeg or avconv - defaulting to ffmpeg, but may not work\n",
      "  warn(\"Couldn't find ffmpeg or avconv - defaulting to ffmpeg, but may not work\", RuntimeWarning)\n"
     ]
    }
   ],
   "source": [
    "from knowledgegpt.extractors.base_extractor import BaseExtractor\n",
    "from knowledgegpt.utils.utils_scrape import scrape_content"
   ]
  },
  {
   "cell_type": "code",
   "execution_count": 2,
   "metadata": {},
   "outputs": [],
   "source": [
    "import openai\n",
    "from example_config import SECRET_KEY\n",
    "openai.api_key = SECRET_KEY"
   ]
  },
  {
   "cell_type": "code",
   "execution_count": 3,
   "metadata": {},
   "outputs": [],
   "source": [
    "# # Scrape content from a webpage\n",
    "# any other dataframes can be used as well, the only requirement is that the column name is \"content\"\n",
    "df = scrape_content(\"https://en.wikipedia.org/wiki/Bombard_(weapon)\")"
   ]
  },
  {
   "cell_type": "code",
   "execution_count": 4,
   "metadata": {
    "collapsed": false
   },
   "outputs": [
    {
     "data": {
      "text/html": [
       "<div>\n",
       "<style scoped>\n",
       "    .dataframe tbody tr th:only-of-type {\n",
       "        vertical-align: middle;\n",
       "    }\n",
       "\n",
       "    .dataframe tbody tr th {\n",
       "        vertical-align: top;\n",
       "    }\n",
       "\n",
       "    .dataframe thead th {\n",
       "        text-align: right;\n",
       "    }\n",
       "</style>\n",
       "<table border=\"1\" class=\"dataframe\">\n",
       "  <thead>\n",
       "    <tr style=\"text-align: right;\">\n",
       "      <th></th>\n",
       "      <th>content</th>\n",
       "    </tr>\n",
       "  </thead>\n",
       "  <tbody>\n",
       "    <tr>\n",
       "      <th>0</th>\n",
       "      <td>Bombard (weapon) - Wikipedia</td>\n",
       "    </tr>\n",
       "    <tr>\n",
       "      <th>1</th>\n",
       "      <td>Jump to content</td>\n",
       "    </tr>\n",
       "    <tr>\n",
       "      <th>2</th>\n",
       "      <td>Main menu</td>\n",
       "    </tr>\n",
       "    <tr>\n",
       "      <th>3</th>\n",
       "      <td>Main menu\\nmove to sidebar\\nhide</td>\n",
       "    </tr>\n",
       "    <tr>\n",
       "      <th>4</th>\n",
       "      <td>Navigation</td>\n",
       "    </tr>\n",
       "    <tr>\n",
       "      <th>...</th>\n",
       "      <td>...</td>\n",
       "    </tr>\n",
       "    <tr>\n",
       "      <th>81</th>\n",
       "      <td>vteEarly firearms and thermal weapons\\nTimelin...</td>\n",
       "    </tr>\n",
       "    <tr>\n",
       "      <th>82</th>\n",
       "      <td>Category:Early modern firearms\\nCategory:Early...</td>\n",
       "    </tr>\n",
       "    <tr>\n",
       "      <th>83</th>\n",
       "      <td>Retrieved from \"https://en.wikipedia.org/w/ind...</td>\n",
       "    </tr>\n",
       "    <tr>\n",
       "      <th>84</th>\n",
       "      <td>This page was last edited on 15 April 2023, at...</td>\n",
       "    </tr>\n",
       "    <tr>\n",
       "      <th>85</th>\n",
       "      <td>Privacy policy\\nAbout Wikipedia\\nDisclaimers\\n...</td>\n",
       "    </tr>\n",
       "  </tbody>\n",
       "</table>\n",
       "<p>86 rows × 1 columns</p>\n",
       "</div>"
      ],
      "text/plain": [
       "                                              content\n",
       "0                        Bombard (weapon) - Wikipedia\n",
       "1                                     Jump to content\n",
       "2                                           Main menu\n",
       "3                    Main menu\\nmove to sidebar\\nhide\n",
       "4                                          Navigation\n",
       "..                                                ...\n",
       "81  vteEarly firearms and thermal weapons\\nTimelin...\n",
       "82  Category:Early modern firearms\\nCategory:Early...\n",
       "83  Retrieved from \"https://en.wikipedia.org/w/ind...\n",
       "84  This page was last edited on 15 April 2023, at...\n",
       "85  Privacy policy\\nAbout Wikipedia\\nDisclaimers\\n...\n",
       "\n",
       "[86 rows x 1 columns]"
      ]
     },
     "execution_count": 4,
     "metadata": {},
     "output_type": "execute_result"
    }
   ],
   "source": [
    "df"
   ]
  },
  {
   "cell_type": "code",
   "execution_count": 6,
   "metadata": {},
   "outputs": [
    {
     "name": "stdout",
     "output_type": "stream",
     "text": [
      "Computing embeddings...\n",
      "model_lang en\n",
      "n_neighbors 21\n",
      "srtd_ix 87\n",
      "(87, 384)\n",
      "(87,)\n",
      "(87,)\n",
      "Selected 8 document sections:\n",
      "0\n",
      "54\n",
      "51\n",
      "53\n",
      "70\n",
      "74\n",
      "1\n",
      "29\n",
      "Answer the question as truthfully as possible using the provided context, and if the answer is not contained within the text below, say \"I don't know.\"\n",
      "\n",
      "Context:\n",
      "\n",
      "* Bombard (weapon) - Wikipedia\n",
      "* Notable examples[edit] A notable example of a bombard is the large Mons Meg weapon, built around 1449 and used by King James II of Scotland. It was very powerful and used for bringing down castle walls.[7] The origins of the Mons Meg are not fully known but according to Philip the Good, Duke of Burgundy, it was his idea. It was ordered around 1449 and had similar construction to a typical bombard.[8] However, the Mons Meg was seldom used because of several factors. Mons Meg was capable of firing 180 kg (396 lb) shots and was one of the largest bombards in its time.  It is now housed on public display at Edinburgh Castle. A bombard with a bore of approximately 12 inches was found when the moat of Bodiam Castle, Kent, was drained. A muzzle-loader of hoop-and-stave construction, it is believed to be the oldest piece found in England and may be late 14th or very early 15th century. It was possibly dumped in the moat following an abortive siege at the castle during the Wars of the Roses. The original is now at the Royal Artillery Museum at Woolwich, but a copy has been on show at the castle for many years. The Star Gun Company has built a Bodiam Bombard replica while local newspapers report a replica was being fired at the castle for visitors during 2012.[9] Other known 15th-century very large-calibre guns include the wrought-iron Pumhart von Steyr and Dulle Griet as well as the cast-bronze Faule Mette, Faule Grete, and Grose Bochse. The Tsar Cannon is a late 16th-century show-piece. The Dardanelles Gun, built in the Ottoman Empire in 1464 by Munir Ali, with a weight of 18.6 t and a length of 518 cm, was capable of firing stone balls of up to 63 cm diameter.[10] The Tsar Cannon, built in 1586 and today located on the grounds of the Moscow Kremlin, is the largest bombard ever built.  Eventually bombards were superseded by weapons using smaller calibre iron projectiles fired from longer barrels with more powerful gunpowder.\n",
      "* By type Anti-tank gun Artillery Autocannon Basilisk Bombard Breech-loading swivel gun Carronade Coastal artillery Coilgun Culverin Demi-cannon Demi-culverin Double-barreled cannon Falconet Field gun Gun-howitzer Gun-mortar Hand cannon Hand mortar Helical railgun Howitzer Infantry support gun Large-calibre artillery Minion Mortar Mountain gun Naval artillery Railgun Railway gun Recoilless rifle Rifled gun Saker Self-propelled artillery Siege cannon Smoothbore Swivel gun Tank gun vteThe bombard is a type of cannon or mortar which was used throughout the Middle Ages and the early modern period. Bombards were mainly large calibre, muzzle-loading artillery pieces used during sieges to shoot round stone projectiles at the walls of enemy fortifications, enabling troops to break in. Most bombards were made of iron and used gunpowder to launch the projectiles.[1] There are many examples of bombards, including Mons Meg, the Dardanelles Gun, and the handheld bombard. The weapon provided the name to the Royal Artillery rank of bombardier and the word bombardment.\n",
      "* History[edit] Main article: History of cannon The oldest known representation of a bombard can be found in the Dazu Rock Carvings. In 1985, the Canadian historian Robin Yates was visiting Buddhist cave temples when he saw a sculpture on the wall depicting a demon firing a hand-held bombard. The sculpture was later dated to the early 12th century.[4] Early bombards also include two Chinese c. 1377 cast-iron mortars weighing over 150 kg, each with 4 trunnions on their barrels.[5] England began using cannons in the early 14th century. Field artillery was deployed by King Edward III at the Battle of Crecy in 1346 but equipment which may have been an artillery piece was listed as captured on a French ship by the English, at Sluys, as early as 1340. Inverted 'keyhole' gun loops[6] at Bodiam Castle, Cooling Castle and Westgate Canterbury have all been identified as for firing heavy handguns. These defences are dated 1380–1385. Initially used as defensive weapons primitive bombards began to be used as siege weapons in the later 14th century. Henry IV and Henry V won battles with the use of bombards. Henry V captured Harfleur with bombards in 1415. King Henry's army later came under artillery fire at the Battle of Agincourt. James II of Scotland destroyed many castles with his one and a half ton cannon named \"The Lion\".[1] The French re-conquest of their kingdom from English control saw the use of considerable French artillery in the siege role. The French in this period preferred to avoid attacking English longbowmen in open battle and relied on siege tactics. However the last battle of the Hundred Years' War saw English commander John Talbot lead an Anglo-Gascon army against dug-in French troops equipped with 300 pieces of artillery at the Battle of Castillion in 1453. The French camp had been laid out by ordnance officer Jean Bureau to maximise the French artillery arm. The Anglo-Gascons were shot to pieces and Talbot was eventually killed. Most bombards started with the construction of a wooden core surrounded by iron bars. Then, iron hoops were driven over these bars in order to surround and cover them. The whole structure was then welded with a hammer while it was still hot at about 2,500 °F (1,400 °C) (Pure iron can be welded when nearly white hot; between 2,500 °F (1,400 °C) and 2,700 °F (1,500 °C). See forge welding.) The rings then subsequently cooled and formed over the bars to secure them. The last step was to incinerate the wooden core and to attach a one-piece cast. The complicated procedure required a highly skilled forge who could work quickly and precisely with a hammer.[1]\n",
      "* ^ a b c Sands, Kathleen (1999). \"Though One Of The Best-Documented Of Medieval Bombards, Mons Meg Was The Subject Of Exaggeration And Legend\". Military History. 16 (3): 22.\n",
      "* ^ Aung-Thwin, Michael; Hall, Kenneth (2011). \"New Perspectives on the History and Historiography of Southeast Asia\": 85. {{cite journal}}: Cite journal requires |journal= (help)\n",
      "* Jump to content\n",
      "* 34 languages\n",
      "\n",
      " Q: When was the Bombard cannon used for the first time and for how long?\n",
      " A:\n",
      "all_done!\n"
     ]
    }
   ],
   "source": [
    "basic_extractor = BaseExtractor(dataframe=df, embedding_extractor=\"hf\", model_lang=\"en\", is_turbo=True, index_type=\"basic_svm\")\n",
    "answer, prompt, messages = basic_extractor.extract(\"When was the Bombard cannon used for the first time and for how long?\", max_tokens=1500)"
   ]
  },
  {
   "cell_type": "code",
   "execution_count": 17,
   "metadata": {},
   "outputs": [
    {
     "name": "stdout",
     "output_type": "stream",
     "text": [
      "Computing embeddings...\n",
      "model_lang en\n",
      "Selected 5 document sections:\n",
      "53\n",
      "52\n",
      "0\n",
      "51\n",
      "28\n",
      "Answer the question as truthfully as possible using the provided context, and if the answer is not contained within the text below, say \"I don't know.\"\n",
      "\n",
      "Context:\n",
      "\n",
      "* History[edit] Main article: History of cannon The oldest known representation of a bombard can be found in the Dazu Rock Carvings. In 1985, the Canadian historian Robin Yates was visiting Buddhist cave temples when he saw a sculpture on the wall depicting a demon firing a hand-held bombard. The sculpture was later dated to the early 12th century.[4] Early bombards also include two Chinese c. 1377 cast-iron mortars weighing over 150 kg, each with 4 trunnions on their barrels.[5] England began using cannons in the early 14th century. Field artillery was deployed by King Edward III at the Battle of Crecy in 1346 but equipment which may have been an artillery piece was listed as captured on a French ship by the English, at Sluys, as early as 1340. Inverted 'keyhole' gun loops[6] at Bodiam Castle, Cooling Castle and Westgate Canterbury have all been identified as for firing heavy handguns. These defences are dated 1380–1385. Initially used as defensive weapons primitive bombards began to be used as siege weapons in the later 14th century. Henry IV and Henry V won battles with the use of bombards. Henry V captured Harfleur with bombards in 1415. King Henry's army later came under artillery fire at the Battle of Agincourt. James II of Scotland destroyed many castles with his one and a half ton cannon named \"The Lion\".[1] The French re-conquest of their kingdom from English control saw the use of considerable French artillery in the siege role. The French in this period preferred to avoid attacking English longbowmen in open battle and relied on siege tactics. However the last battle of the Hundred Years' War saw English commander John Talbot lead an Anglo-Gascon army against dug-in French troops equipped with 300 pieces of artillery at the Battle of Castillion in 1453. The French camp had been laid out by ordnance officer Jean Bureau to maximise the French artillery arm. The Anglo-Gascons were shot to pieces and Talbot was eventually killed. Most bombards started with the construction of a wooden core surrounded by iron bars. Then, iron hoops were driven over these bars in order to surround and cover them. The whole structure was then welded with a hammer while it was still hot at about 2,500 °F (1,400 °C) (Pure iron can be welded when nearly white hot; between 2,500 °F (1,400 °C) and 2,700 °F (1,500 °C). See forge welding.) The rings then subsequently cooled and formed over the bars to secure them. The last step was to incinerate the wooden core and to attach a one-piece cast. The complicated procedure required a highly skilled forge who could work quickly and precisely with a hammer.[1]\n",
      "* Terminology[edit] The term \"bombard\" was first used to describe guns of any kind from the early to mid-14th century, but it was later applied primarily to large cannons during the 14th to 15th centuries.[2] Despite its strong association with large cannons, there is no standard size for bombards, and the term has been applied to cannons only a meter in length as well as cannons several meters long weighing up to 20 tonnes.[3]\n",
      "* Bombard (weapon) - Wikipedia\n",
      "* By type Anti-tank gun Artillery Autocannon Basilisk Bombard Breech-loading swivel gun Carronade Coastal artillery Coilgun Culverin Demi-cannon Demi-culverin Double-barreled cannon Falconet Field gun Gun-howitzer Gun-mortar Hand cannon Hand mortar Helical railgun Howitzer Infantry support gun Large-calibre artillery Minion Mortar Mountain gun Naval artillery Railgun Railway gun Recoilless rifle Rifled gun Saker Self-propelled artillery Siege cannon Smoothbore Swivel gun Tank gun vteThe bombard is a type of cannon or mortar which was used throughout the Middle Ages and the early modern period. Bombards were mainly large calibre, muzzle-loading artillery pieces used during sieges to shoot round stone projectiles at the walls of enemy fortifications, enabling troops to break in. Most bombards were made of iron and used gunpowder to launch the projectiles.[1] There are many examples of bombards, including Mons Meg, the Dardanelles Gun, and the handheld bombard. The weapon provided the name to the Royal Artillery rank of bombardier and the word bombardment.\n",
      "* Bombard (weapon)\n",
      "\n",
      " Q: When was the Bombard cannon used for the first time and for how long?\n",
      " A:\n",
      "all_done!\n"
     ]
    }
   ],
   "source": [
    "basic_extractor = BaseExtractor(dataframe=df, embedding_extractor=\"hf\", model_lang=\"en\", is_turbo=True, index_type=\"basic\")\n",
    "answer, prompt, messages = basic_extractor.extract(\"When was the Bombard cannon used for the first time and for how long?\", max_tokens=1500)"
   ]
  },
  {
   "cell_type": "code",
   "execution_count": 7,
   "metadata": {},
   "outputs": [
    {
     "data": {
      "text/plain": [
       "'The text does not provide a specific answer to this question. However, it does mention that bombards were initially used as defensive weapons and began to be used as siege weapons in the later 14th century. They were used throughout the Middle Ages and the early modern period until they were eventually superseded by weapons using smaller calibre iron projectiles fired from longer barrels with more powerful gunpowder.'"
      ]
     },
     "execution_count": 7,
     "metadata": {},
     "output_type": "execute_result"
    }
   ],
   "source": [
    "answer"
   ]
  },
  {
   "cell_type": "code",
   "execution_count": 8,
   "metadata": {},
   "outputs": [],
   "source": [
    "from knowledgegpt.extractors.pdf_extractor import PDFExtractor"
   ]
  },
  {
   "cell_type": "code",
   "execution_count": 12,
   "metadata": {},
   "outputs": [],
   "source": [
    "pdf_extractor = PDFExtractor(\"2202.01197.pdf\",extraction_type=\"paragraph\", embedding_extractor=\"hf\", model_lang=\"en\", is_turbo=True, index_type=\"basic_svm\")"
   ]
  },
  {
   "cell_type": "code",
   "execution_count": 13,
   "metadata": {},
   "outputs": [
    {
     "name": "stdout",
     "output_type": "stream",
     "text": [
      "Processing PDF file...\n",
      "Extracting paragraphs...\n"
     ]
    },
    {
     "name": "stderr",
     "output_type": "stream",
     "text": [
      "FloatObject (b'0.00-70') invalid; use 0.0 instead\n",
      "FloatObject (b'0.00-70') invalid; use 0.0 instead\n",
      "FloatObject (b'0.00-70') invalid; use 0.0 instead\n",
      "FloatObject (b'0.00-70') invalid; use 0.0 instead\n",
      "FloatObject (b'0.00-40') invalid; use 0.0 instead\n",
      "FloatObject (b'0.00-40') invalid; use 0.0 instead\n",
      "FloatObject (b'0.00-40') invalid; use 0.0 instead\n",
      "FloatObject (b'0.00-40') invalid; use 0.0 instead\n"
     ]
    },
    {
     "name": "stdout",
     "output_type": "stream",
     "text": [
      "Computing embeddings...\n",
      "model_lang en\n",
      "n_neighbors 37\n",
      "srtd_ix 150\n",
      "(150, 384)\n",
      "(150,)\n",
      "(150,)\n",
      "Selected 10 document sections:\n",
      "0\n",
      "147\n",
      "4\n",
      "133\n",
      "131\n",
      "15\n",
      "13\n",
      "10\n",
      "130\n",
      "142\n",
      "Answer the question as truthfully as possible using the provided context, and if the answer is not contained within the text below, say \"I don't know.\"\n",
      "\n",
      "Context:\n",
      "\n",
      "*  Published as a conference paper at ICLR 2022 VOS: L EARNING WHAT YOUDON’TKNOW BY VIRTUAL OUTLIER SYNTHESIS Xuefeng Du, Zhaoning Wang, Mu Cai, Yixuan Li Department of Computer Sciences University of Wisconsin - Madison fxfdu,mucai,sharonli g@cs.wisc.edu ABSTRACT Out-of-distribution (OOD) detection has received much attention lately due to its importance in the safe deployment of neural networks.\n",
      "* In other words, our goal is to ensure that “if the box is detected, it should be faithfully an in-distribution object rather than OOD”. Although generating the bounding box for OOD data is not the focus of this paper, we do notice that VOS can improve the number of boxes detected for OOD data (+25% on BDD trained model compared to the vanilla Faster-RCNN).  The number of OOD objects ignored by RPN can largely depend on the conﬁdence score threshold and the NMS threshold.\n",
      "* In particular, neural networks have been shown to produce high posterior probability for out-of-distribution (OOD) test inputs (Nguyen et al., 2015), which arise from unknown categories and should not be predicted by the model. Taking self-driving car as an example, an object detection model trained to recognize in-distribution objects (e.g., cars, stop signs) can produce a high-conﬁdence prediction for an unseen object of a moose; see Figure 1(a).\n",
      "* E B ASELINES To evaluate the baselines, we follow the original methods in MSP (Hendrycks & Gimpel, 2017), ODIN (Liang et al., 2018), Generalized ODIN (Hsu et al., 2020), Mahalanobis distance (Lee et al., 2018b), CSI (Tack et al., 2020), energy score (Liu et al., 2020a) and gram matrices (Sastry & Oore, 2020) and apply them accordingly on the classiﬁcation branch of the object detectors. For ODIN, the temperature is set to be T= 1000 following the original work.\n",
      "*  Published as a conference paper at ICLR 2022 D A DDITIONAL VISUALIZATION RESULTS  We provide additional visualization of the detected objects on different OOD datasets with models trained on different in-distribution datasets. The results are shown in Figures 5-8. Figure 5: Additional visualization of detected objects on the OOD images (from MS-COCO) by a vanilla Faster-RCNN ( top) and VOS (bottom ). The in-distribution is Pascal VOC dataset.\n",
      "* (3)VOS synthesizes outliers that can estimate a compact decision boundary between ID and OOD data. In contrast, ex- isting solutions use outliers that are either too trivial to regularize the OOD estimator, or too hard to be separated from ID data, resulting in sub-optimal performance.  Our key contributions and results are summarized as follows:  • We propose a new framework VOS addressing a pressing issue—unknown-aware deep learning that optimizes for both ID and OOD performance.\n",
      "* (1)VOS is ageneral learning framework that is effective for both object detection and image classiﬁcation tasks, whereas previous methods were primarily driven by image classiﬁcation. Image-level detection can be lim- iting as an image could be OOD in certain regions while being in-distribution elsewhere. Our work bridges a critical research gap since OOD detection for object detection is timely yet underexplored in literature.\n",
      "*  Published as a conference paper at ICLR 2022 (a) Overconfident predictions   on OOD data  (b) Uncertainty measure on model trained  without outliers (not ideal)  (c) Uncertainty measure on model trained   with virtual outliers (ours)   Figure 1: (a) A Faster-RCNN (Ren et al., 2015) model trained on BDD-100k dataset (Yu et al., 2020) produces overconﬁdent predictions for OOD object ( e.g., moose). (b)-(c) The uncertainty measurement with and without virtual outlier training.\n",
      "* 16\n",
      "* As can be observed, the learned weight coefﬁcient displays a consistent trend with the number of train- ing objects per class, which indicates the advantage of using learnable weights rather than constant weight vector with all 1s. 19\n",
      "\n",
      " Q: What is VOS, how does it work?\n",
      " A:\n",
      "all_done!\n"
     ]
    }
   ],
   "source": [
    "answer, prompt, messages = pdf_extractor.extract(\"What is VOS, how does it work?\", max_tokens=1500)"
   ]
  },
  {
   "cell_type": "code",
   "execution_count": 14,
   "metadata": {},
   "outputs": [
    {
     "data": {
      "text/plain": [
       "'VOS is a framework proposed in the paper for unknown-aware deep learning that optimizes for both in-distribution (ID) and out-of-distribution (OOD) performance. It synthesizes outliers that can estimate a compact decision boundary between ID and OOD data, and is effective for both object detection and image classification tasks. VOS addresses a pressing issue in deep learning and bridges a critical research gap since OOD detection for object detection is timely yet underexplored in literature. The paper provides additional visualization of the detected objects on different OOD datasets with models trained on different in-distribution datasets.'"
      ]
     },
     "execution_count": 14,
     "metadata": {},
     "output_type": "execute_result"
    }
   ],
   "source": [
    "answer"
   ]
  },
  {
   "cell_type": "code",
   "execution_count": 15,
   "metadata": {},
   "outputs": [],
   "source": [
    "pdf_extractor = PDFExtractor(\"2202.01197.pdf\",extraction_type=\"paragraph\", embedding_extractor=\"hf\", model_lang=\"en\", is_turbo=True, index_type=\"basic\")"
   ]
  },
  {
   "cell_type": "code",
   "execution_count": 16,
   "metadata": {},
   "outputs": [
    {
     "name": "stdout",
     "output_type": "stream",
     "text": [
      "Processing PDF file...\n",
      "Extracting paragraphs...\n"
     ]
    },
    {
     "name": "stderr",
     "output_type": "stream",
     "text": [
      "FloatObject (b'0.00-70') invalid; use 0.0 instead\n",
      "FloatObject (b'0.00-70') invalid; use 0.0 instead\n",
      "FloatObject (b'0.00-70') invalid; use 0.0 instead\n",
      "FloatObject (b'0.00-70') invalid; use 0.0 instead\n",
      "FloatObject (b'0.00-40') invalid; use 0.0 instead\n",
      "FloatObject (b'0.00-40') invalid; use 0.0 instead\n",
      "FloatObject (b'0.00-40') invalid; use 0.0 instead\n",
      "FloatObject (b'0.00-40') invalid; use 0.0 instead\n"
     ]
    },
    {
     "name": "stdout",
     "output_type": "stream",
     "text": [
      "Computing embeddings...\n",
      "model_lang en\n",
      "Selected 13 document sections:\n",
      "12\n",
      "3\n",
      "146\n",
      "86\n",
      "141\n",
      "14\n",
      "132\n",
      "75\n",
      "13\n",
      "136\n",
      "62\n",
      "37\n",
      "67\n",
      "Answer the question as truthfully as possible using the provided context, and if the answer is not contained within the text below, say \"I don't know.\"\n",
      "\n",
      "Context:\n",
      "\n",
      "* During training, VOS simultaneously performs the ID task ( e.g., classiﬁcation or object detection) as well as the OOD un- certainty regularization. During inference time, the uncertainty estimation branch produces a larger probabilistic score for ID data and vice versa, which enables effective OOD detection (Section 3.3).  VOS offers several compelling advantages compared to existing solutions.\n",
      "* VOS achieves competitive per- formance on both object detection and image classiﬁcation models, reducing the FPR95 by up to 9.36% compared to the previous best method on object detectors.  Code is available at https://github.com/deeplearning-wisc/vos .  1 I NTRODUCTION  Modern deep neural networks have achieved unprecedented success in known contexts for which they are trained, yet they often struggle to handle the unknowns.\n",
      "* From Figure 10, the virtual outliers reside in the near-boundary region of the in-distribution feature cluster, which helps the model to learn a compact decision boundary between ID and OOD objects.  I D ISCUSSION ON THE DETECTED ,REJECTED AND IGNORED OOD OBJECTS DURING INFERENCE The focus of VOS is to mitigate the undesirable cases when an OOD object is detected and classiﬁed as in-distribution with high conﬁdence.\n",
      "* Different from methods that require real outlier data, VOS adaptively synthesizes outliers during training by sampling virtual outliers from the low-likelihood region of the class-conditional distri- butions. The synthesized outliers meaningfully improve the decision boundary between the ID data and OOD data, resulting in superior OOD detection performance while preserving the performance of the ID task. VOS is effective and suitable for both object detection and classiﬁcation tasks.\n",
      "* Models FPR95#AUROC\"mAP\" PASCAL VOC VOS-ﬁnal 47.53 88.70 48.9 VOS-earlier 50.24 88.24 48.6 BDD-100k VOS-ﬁnal 44.27 86.87 31.3 VOS-earlier 49.66 86.08 30.6 Table 10: Performance comparison of employing VOS on different layers. COCO is the OOD data. of training objects of that class in Figure 9. We use the BDD-100k dataset (Yu et al., 2020) as the in- distribution dataset and the RegNetX-4.0GF (Radosavovic et al., 2020) as the backbone network.\n",
      "* (2)VOS enables adaptive outlier synthesis, which can be ﬂexibly and conveniently used for any ID data without manual data collection or cleaning. In contrast, previous methods us- ing outlier exposure (Hendrycks et al., 2019) require an auxiliary image dataset that is sufﬁciently diverse, which can be arguably prohibitive to obtain. Moreover, one needs to perform careful data cleaning to ensure the auxiliary outlier dataset does not overlap with ID data.\n",
      "* Blue : Objects detected and classiﬁed as one of the ID classes. Green : OOD objects detected by VOS, which reduce false positives among detected objects. \n",
      "* Moreover, the conﬁdence score of the false-positive objects of VOS is lower than that of the vanilla model (see the truck in the 3rd column).  Additional visualizations are in Appendix D and H. 5 R ELATED WORK OOD detection for classiﬁcation can be broadly categorized into post hoc and regularization-based approaches. In Bendale & Boult (2016), the OpenMax score is developed for OOD detection based 8\n",
      "* (1)VOS is ageneral learning framework that is effective for both object detection and image classiﬁcation tasks, whereas previous methods were primarily driven by image classiﬁcation. Image-level detection can be lim- iting as an image could be OOD in certain regions while being in-distribution elsewhere. Our work bridges a critical research gap since OOD detection for object detection is timely yet underexplored in literature.\n",
      "*  Published as a conference paper at ICLR 2022 Figure 6: Additional visualization of detected objects on the OOD images (from OpenImages) by a vanilla Faster-RCNN ( top) and VOS (bottom ). The in-distribution is Pascal VOC dataset. Blue : Objects detected and classiﬁed as one of the ID classes. Green : OOD objects detected by VOS, which reduce false positives among detected objects. to perform contrastive learning.\n",
      "* The results are summarized in Table 2, where VOS outperforms alternative synthesis approaches both in the feature space ( |,\\) or the pixel space ( \u0005). Generating outliers in the pixel space ( \u0005) is either unstable (GAN) or harmful for the object detection performance (mixup). Introducing noise (\\), especially using Gaussian noise as outliers is promising.\n",
      "* Moreover, VOS produces probabilistic score for OOD detection, whereas Liu et al. (2020a) relies on non-probabilistic energy score.  Object-level energy score. In case of object detection, we can replace the image-level energy with object-level energy score. For ID object (x;b), the energy is deﬁned as: E(x;b;\u0012) =\u0000logKX k=1wk\u0001expfk((x;b);\u0012); (6) wherefk((x;b);\u0012) =W> clsh(x;b)is the logit output for class kin the classiﬁcation branch.\n",
      "* Comparison with different regularization loss functions (on backbone of ResNet-50, COCO is the OOD data).  an additional class increases the difﬁculty of object classiﬁcation, which does not outperform either.  This ablation demonstrates the superiority of the uncertainty loss employed by VOS.  VOS is effective on alternative architecture. Lastly, we demonstrate that VOS is effective on alternative neural network architectures.\n",
      "\n",
      " Q: What is VOS, how does it work?\n",
      " A:\n",
      "all_done!\n"
     ]
    }
   ],
   "source": [
    "answer, prompt, messages = pdf_extractor.extract(\"What is VOS, how does it work?\", max_tokens=1500)"
   ]
  },
  {
   "cell_type": "code",
   "execution_count": null,
   "metadata": {},
   "outputs": [],
   "source": []
  }
 ],
 "metadata": {
  "kernelspec": {
   "display_name": "knowledgegpt-env",
   "language": "python",
   "name": "python3"
  },
  "language_info": {
   "codemirror_mode": {
    "name": "ipython",
    "version": 3
   },
   "file_extension": ".py",
   "mimetype": "text/x-python",
   "name": "python",
   "nbconvert_exporter": "python",
   "pygments_lexer": "ipython3",
   "version": "3.9.16"
  },
  "orig_nbformat": 4,
  "vscode": {
   "interpreter": {
    "hash": "d0285ce201951a37668925b1b7de032ac1583adb61d048d8a5dd45351727e09e"
   }
  }
 },
 "nbformat": 4,
 "nbformat_minor": 2
}
