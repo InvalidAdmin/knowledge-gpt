{
 "cells": [
  {
   "cell_type": "code",
   "execution_count": 3,
   "metadata": {
    "collapsed": false
   },
   "outputs": [],
   "source": [
    "# !python3 -m spacy download en_core_web_sm"
   ]
  },
  {
   "cell_type": "code",
   "execution_count": 1,
   "metadata": {
    "collapsed": false
   },
   "outputs": [],
   "source": [
    "from knowledgegpt.extractors.base_extractor import BaseExtractor\n",
    "from knowledgegpt.utils.utils_scrape import scrape_content"
   ]
  },
  {
   "cell_type": "code",
   "execution_count": 2,
   "metadata": {},
   "outputs": [],
   "source": [
    "import openai\n",
    "from example_config import SECRET_KEY\n",
    "openai.api_key = SECRET_KEY"
   ]
  },
  {
   "cell_type": "code",
   "execution_count": 3,
   "metadata": {},
   "outputs": [],
   "source": [
    "# # Scrape content from a webpage\n",
    "# any other dataframes can be used as well, the only requirement is that the column name is \"content\"\n",
    "df = scrape_content(\"https://en.wikipedia.org/wiki/Bombard_(weapon)\")"
   ]
  },
  {
   "cell_type": "code",
   "execution_count": 4,
   "metadata": {
    "collapsed": false
   },
   "outputs": [
    {
     "data": {
      "text/html": [
       "<div>\n",
       "<style scoped>\n",
       "    .dataframe tbody tr th:only-of-type {\n",
       "        vertical-align: middle;\n",
       "    }\n",
       "\n",
       "    .dataframe tbody tr th {\n",
       "        vertical-align: top;\n",
       "    }\n",
       "\n",
       "    .dataframe thead th {\n",
       "        text-align: right;\n",
       "    }\n",
       "</style>\n",
       "<table border=\"1\" class=\"dataframe\">\n",
       "  <thead>\n",
       "    <tr style=\"text-align: right;\">\n",
       "      <th></th>\n",
       "      <th>content</th>\n",
       "    </tr>\n",
       "  </thead>\n",
       "  <tbody>\n",
       "    <tr>\n",
       "      <th>0</th>\n",
       "      <td>Bombard (weapon) - Wikipedia</td>\n",
       "    </tr>\n",
       "    <tr>\n",
       "      <th>1</th>\n",
       "      <td>Jump to content</td>\n",
       "    </tr>\n",
       "    <tr>\n",
       "      <th>2</th>\n",
       "      <td>Toggle sidebar</td>\n",
       "    </tr>\n",
       "    <tr>\n",
       "      <th>3</th>\n",
       "      <td>Search</td>\n",
       "    </tr>\n",
       "    <tr>\n",
       "      <th>4</th>\n",
       "      <td>Create accountLog in</td>\n",
       "    </tr>\n",
       "    <tr>\n",
       "      <th>...</th>\n",
       "      <td>...</td>\n",
       "    </tr>\n",
       "    <tr>\n",
       "      <th>75</th>\n",
       "      <td>vteEarly firearms and thermal weapons\\nTimelin...</td>\n",
       "    </tr>\n",
       "    <tr>\n",
       "      <th>76</th>\n",
       "      <td>Category:Early modern firearms\\nCategory:Early...</td>\n",
       "    </tr>\n",
       "    <tr>\n",
       "      <th>77</th>\n",
       "      <td>Retrieved from \"https://en.wikipedia.org/w/ind...</td>\n",
       "    </tr>\n",
       "    <tr>\n",
       "      <th>78</th>\n",
       "      <td>This page was last edited on 25 February 2023,...</td>\n",
       "    </tr>\n",
       "    <tr>\n",
       "      <th>79</th>\n",
       "      <td>Privacy policy\\nAbout Wikipedia\\nDisclaimers\\n...</td>\n",
       "    </tr>\n",
       "  </tbody>\n",
       "</table>\n",
       "<p>80 rows × 1 columns</p>\n",
       "</div>"
      ],
      "text/plain": [
       "                                              content\n",
       "0                        Bombard (weapon) - Wikipedia\n",
       "1                                     Jump to content\n",
       "2                                      Toggle sidebar\n",
       "3                                              Search\n",
       "4                                Create accountLog in\n",
       "..                                                ...\n",
       "75  vteEarly firearms and thermal weapons\\nTimelin...\n",
       "76  Category:Early modern firearms\\nCategory:Early...\n",
       "77  Retrieved from \"https://en.wikipedia.org/w/ind...\n",
       "78  This page was last edited on 25 February 2023,...\n",
       "79  Privacy policy\\nAbout Wikipedia\\nDisclaimers\\n...\n",
       "\n",
       "[80 rows x 1 columns]"
      ]
     },
     "execution_count": 4,
     "metadata": {},
     "output_type": "execute_result"
    }
   ],
   "source": [
    "df"
   ]
  },
  {
   "cell_type": "code",
   "execution_count": 5,
   "metadata": {},
   "outputs": [
    {
     "name": "stdout",
     "output_type": "stream",
     "text": [
      "Computing embeddings...\n",
      "model_lang en\n",
      "Selected 17 document sections:\n",
      "16\n",
      "73\n",
      "66\n",
      "65\n",
      "10\n",
      "28\n",
      "72\n",
      "52\n",
      "36\n",
      "49\n",
      "41\n",
      "68\n",
      "69\n",
      "50\n",
      "26\n",
      "14\n",
      "30\n",
      "Answer the question as truthfully as possible using the provided context, and if the answer is not contained within the text below, say \"I don't know.\"\n",
      "\n",
      "Context:\n",
      "\n",
      "* Download as PDFPrintable version\n",
      "* ^ Schmidtchen (1977b), pp. 226–228\n",
      "* ^ DeVries 2012, p. 155.\n",
      "* ^ Andrade 2016, p. 83.\n",
      "* Main pageContentsCurrent eventsRandom articleAbout WikipediaContact usDonate\n",
      "* 6Notes\n",
      "* ^ \"Bodiam Bombard | Kent and Sussex Courier\". Archived from the original on 2015-09-23. Retrieved 2015-04-13.\n",
      "* The Dardanelles Gun.\n",
      "* ArticleTalk\n",
      "* Gallery[edit]\n",
      "* From Wikipedia, the free encyclopedia\n",
      "* ^ Aung-Thwin, Michael; Hall, Kenneth (2011). \"New Perspectives on the History and Historiography of Southeast Asia\": 85. {{cite journal}}: Cite journal requires |journal= (help)\n",
      "* ^ File:Westgate 076.jpg\n",
      "* \"Hand bombard\", 1390–1400\n",
      "* 4Gallery\n",
      "* What links hereRelated changesUpload fileSpecial pagesPermanent linkPage informationCite this pageWikidata item\n",
      "* 8Further reading\n",
      "\n",
      " Q: What is the title of this PDF?\n",
      " A:\n",
      "all_done!\n"
     ]
    }
   ],
   "source": [
    "basic_extractor = BaseExtractor(dataframe=df, embedding_extractor=\"hf\", model_lang=\"en\", is_turbo=True)\n",
    "answer, prompt, messages = basic_extractor.extract(\"What is the title of this PDF?\", max_tokens=300)"
   ]
  },
  {
   "cell_type": "code",
   "execution_count": 6,
   "metadata": {},
   "outputs": [
    {
     "data": {
      "text/plain": [
       "\"I don't know.\""
      ]
     },
     "execution_count": 6,
     "metadata": {},
     "output_type": "execute_result"
    }
   ],
   "source": [
    "answer"
   ]
  },
  {
   "cell_type": "code",
   "execution_count": 7,
   "metadata": {},
   "outputs": [
    {
     "name": "stdout",
     "output_type": "stream",
     "text": [
      "What is Bombard?\n",
      "all_done!\n"
     ]
    }
   ],
   "source": [
    "answer, prompt, messages = basic_extractor.extract(\"What is Bombard?\", max_tokens=300)"
   ]
  },
  {
   "cell_type": "code",
   "execution_count": 8,
   "metadata": {},
   "outputs": [
    {
     "data": {
      "text/plain": [
       "'Based on the provided context, a bombard is a type of medieval cannon or artillery used in warfare. It is also referred to as a hand bombard.'"
      ]
     },
     "execution_count": 8,
     "metadata": {},
     "output_type": "execute_result"
    }
   ],
   "source": [
    "answer"
   ]
  },
  {
   "cell_type": "code",
   "execution_count": 9,
   "metadata": {},
   "outputs": [
    {
     "data": {
      "text/plain": [
       "[{'role': 'system', 'content': 'you are a helpful assistant'},\n",
       " {'role': 'user',\n",
       "  'content': 'Answer the question as truthfully as possible using the provided context, and if the answer is not contained within the text below, say \"I don\\'t know.\"\\n\\nContext:\\n\\n* Download as PDFPrintable version\\n* ^ Schmidtchen (1977b), pp. 226–228\\n* ^ DeVries 2012, p.\\xa0155.\\n* ^ Andrade 2016, p.\\xa083.\\n* Main pageContentsCurrent eventsRandom articleAbout WikipediaContact usDonate\\n* 6Notes\\n* ^ \"Bodiam Bombard | Kent and Sussex Courier\". Archived from the original on 2015-09-23. Retrieved 2015-04-13.\\n* The Dardanelles Gun.\\n* ArticleTalk\\n* Gallery[edit]\\n* From Wikipedia, the free encyclopedia\\n* ^ Aung-Thwin, Michael; Hall, Kenneth (2011). \"New Perspectives on the History and Historiography of Southeast Asia\": 85. {{cite journal}}: Cite journal requires |journal= (help)\\n* ^ File:Westgate 076.jpg\\n* \"Hand bombard\", 1390–1400\\n* 4Gallery\\n* What links hereRelated changesUpload fileSpecial pagesPermanent linkPage informationCite this pageWikidata item\\n* 8Further reading\\n\\n Q: What is the title of this PDF?\\n A:'},\n",
       " {'role': 'assistant', 'content': \"I don't know.\"},\n",
       " {'role': 'user', 'content': 'What is Bombard?'},\n",
       " {'role': 'assistant',\n",
       "  'content': 'Based on the provided context, a bombard is a type of medieval cannon or artillery used in warfare. It is also referred to as a hand bombard.'}]"
      ]
     },
     "execution_count": 9,
     "metadata": {},
     "output_type": "execute_result"
    }
   ],
   "source": [
    "messages"
   ]
  }
 ],
 "metadata": {
  "kernelspec": {
   "display_name": "knowledgegpt-env",
   "language": "python",
   "name": "python3"
  },
  "language_info": {
   "codemirror_mode": {
    "name": "ipython",
    "version": 3
   },
   "file_extension": ".py",
   "mimetype": "text/x-python",
   "name": "python",
   "nbconvert_exporter": "python",
   "pygments_lexer": "ipython3",
   "version": "3.9.16"
  },
  "orig_nbformat": 4
 },
 "nbformat": 4,
 "nbformat_minor": 2
}
