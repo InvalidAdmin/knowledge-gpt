{
 "cells": [
  {
   "cell_type": "code",
   "execution_count": 1,
   "metadata": {},
   "outputs": [],
   "source": [
    "from knowledgegpt.extractors.basic_extractor import BasicExtractor\n",
    "from knowledgegpt.utils.utils_scrape import scrape_content"
   ]
  },
  {
   "cell_type": "code",
   "execution_count": 2,
   "metadata": {},
   "outputs": [],
   "source": [
    "import openai\n",
    "from config import SECRET_KEY\n",
    "openai.api_key = SECRET_KEY"
   ]
  },
  {
   "cell_type": "code",
   "execution_count": 3,
   "metadata": {},
   "outputs": [],
   "source": [
    "# # Scrape content from a webpage\n",
    "# any other dataframes can be used as well, the only requirement is that the column name is \"content\"\n",
    "df = scrape_content(\"https://en.wikipedia.org/wiki/Bombard_(weapon)\")"
   ]
  },
  {
   "cell_type": "code",
   "execution_count": 4,
   "metadata": {},
   "outputs": [],
   "source": [
    "from config import MONGO_URI\n",
    "from pymongo import MongoClient\n",
    "\n",
    "client  = MongoClient(MONGO_URI)\n",
    "db = client.openai_test"
   ]
  },
  {
   "cell_type": "code",
   "execution_count": 5,
   "metadata": {},
   "outputs": [
    {
     "name": "stdout",
     "output_type": "stream",
     "text": [
      "Processing dataframe...\n",
      "Computing embeddings...\n",
      "Answering query...\n",
      "model_lang en\n",
      "Selected 17 document sections:\n",
      "16\n",
      "73\n",
      "66\n",
      "65\n",
      "10\n",
      "28\n",
      "72\n",
      "52\n",
      "36\n",
      "49\n",
      "41\n",
      "68\n",
      "69\n",
      "50\n",
      "26\n",
      "14\n",
      "30\n",
      "Answer the question as truthfully as possible using the provided context, and if the answer is not contained within the text below, say \"I don't know.\"\n",
      "\n",
      "Context:\n",
      "\n",
      "* Download as PDFPrintable version\n",
      "* ^ Schmidtchen (1977b), pp. 226–228\n",
      "* ^ DeVries 2012, p. 155.\n",
      "* ^ Andrade 2016, p. 83.\n",
      "* Main pageContentsCurrent eventsRandom articleAbout WikipediaContact usDonate\n",
      "* 6Notes\n",
      "* ^ \"Bodiam Bombard | Kent and Sussex Courier\". Archived from the original on 2015-09-23. Retrieved 2015-04-13.\n",
      "* The Dardanelles Gun.\n",
      "* ArticleTalk\n",
      "* Gallery[edit]\n",
      "* From Wikipedia, the free encyclopedia\n",
      "* ^ Aung-Thwin, Michael; Hall, Kenneth (2011). \"New Perspectives on the History and Historiography of Southeast Asia\": 85. {{cite journal}}: Cite journal requires |journal= (help)\n",
      "* ^ File:Westgate 076.jpg\n",
      "* \"Hand bombard\", 1390–1400\n",
      "* 4Gallery\n",
      "* What links hereRelated changesUpload fileSpecial pagesPermanent linkPage informationCite this pageWikidata item\n",
      "* 8Further reading\n",
      "\n",
      " Q: What is the title of this PDF?\n",
      " A:\n",
      "Done!\n"
     ]
    }
   ],
   "source": [
    "# answer, prompt, messages = basic_extractor(db, df, embedding_extractor=\"hf\", model_lang=\"en\", max_tokens=200, query=\"What is a bombard?\", to_save=True)\n",
    "basic_extractor = BasicExtractor(db, df)\n",
    "answer, prompt, messages = basic_extractor.extract(\"What is the title of this PDF?\", max_tokens=300)"
   ]
  },
  {
   "cell_type": "code",
   "execution_count": 6,
   "metadata": {},
   "outputs": [
    {
     "data": {
      "text/plain": [
       "\"I don't know.\""
      ]
     },
     "execution_count": 6,
     "metadata": {},
     "output_type": "execute_result"
    }
   ],
   "source": [
    "answer"
   ]
  },
  {
   "cell_type": "code",
   "execution_count": 7,
   "metadata": {},
   "outputs": [
    {
     "name": "stdout",
     "output_type": "stream",
     "text": [
      "Processing dataframe...\n",
      "Computing embeddings...\n",
      "Answering query...\n",
      "model_lang en\n",
      "Selected 9 document sections:\n",
      "0\n",
      "33\n",
      "60\n",
      "62\n",
      "67\n",
      "50\n",
      "46\n",
      "72\n",
      "61\n",
      "Answer the question as truthfully as possible using the provided context, and if the answer is not contained within the text below, say \"I don't know.\"\n",
      "\n",
      "Context:\n",
      "\n",
      "* Bombard (weapon) - Wikipedia\n",
      "* Bombard (weapon)\n",
      "* Bombard in its siege position, Denmark.\n",
      "* Wikimedia Commons has media related to Bombards (weapon).\n",
      "* ^ Gwei-Djen, Lu; Needham, Joseph; Chi-Hsing, Phan (July 1988). \"The Oldest Representation of a Bombard\". Technology and Culture. 29 (3): 594–605. doi:10.2307/3105275. JSTOR 3105275.\n",
      "* \"Hand bombard\", 1390–1400\n",
      "* Terminology[edit] The term \"bombard\" was first used to describe guns of any kind from the early to mid-14th century, but it was later applied primarily to large cannons during the 14th to 15th centuries.[2] Despite its strong association with large cannons, there is no standard size for bombards, and the term has been applied to cannons only a meter in length as well as cannons several meters long weighing up to 20 tonnes.[3]\n",
      "* ^ \"Bodiam Bombard | Kent and Sussex Courier\". Archived from the original on 2015-09-23. Retrieved 2015-04-13.\n",
      "* A bombard recovered from the well of Cardiff castle, in swivel configuration.\n",
      "\n",
      " Q: What is Bombard?\n",
      " A:\n",
      "Done!\n"
     ]
    }
   ],
   "source": [
    "answer, prompt, messages = basic_extractor.extract(\"What is Bombard?\", max_tokens=300)"
   ]
  },
  {
   "cell_type": "code",
   "execution_count": 8,
   "metadata": {},
   "outputs": [
    {
     "data": {
      "text/plain": [
       "'Bombard is a type of weapon, typically a large cannon, used during the 14th to 15th centuries.'"
      ]
     },
     "execution_count": 8,
     "metadata": {},
     "output_type": "execute_result"
    }
   ],
   "source": [
    "answer"
   ]
  },
  {
   "cell_type": "code",
   "execution_count": null,
   "metadata": {},
   "outputs": [],
   "source": []
  }
 ],
 "metadata": {
  "kernelspec": {
   "display_name": "knowledgegpt-env",
   "language": "python",
   "name": "python3"
  },
  "language_info": {
   "codemirror_mode": {
    "name": "ipython",
    "version": 3
   },
   "file_extension": ".py",
   "mimetype": "text/x-python",
   "name": "python",
   "nbconvert_exporter": "python",
   "pygments_lexer": "ipython3",
   "version": "3.9.16"
  },
  "orig_nbformat": 4
 },
 "nbformat": 4,
 "nbformat_minor": 2
}
