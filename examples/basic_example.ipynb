{
 "cells": [
  {
   "cell_type": "code",
   "execution_count": 3,
   "outputs": [],
   "source": [
    "# !python3 -m spacy download en_core_web_sm"
   ],
   "metadata": {
    "collapsed": false
   }
  },
  {
   "cell_type": "code",
   "execution_count": 2,
   "outputs": [],
   "source": [
    "from knowledgegpt.extractors.basic_extractor import BasicExtractor\n",
    "from knowledgegpt.utils.utils_scrape import scrape_content"
   ],
   "metadata": {
    "collapsed": false
   }
  },
  {
   "cell_type": "code",
   "execution_count": 2,
   "metadata": {},
   "outputs": [],
   "source": [
    "import openai\n",
    "from config import SECRET_KEY\n",
    "openai.api_key = SECRET_KEY"
   ]
  },
  {
   "cell_type": "code",
   "execution_count": 12,
   "metadata": {},
   "outputs": [],
   "source": [
    "# # Scrape content from a webpage\n",
    "# any other dataframes can be used as well, the only requirement is that the column name is \"content\"\n",
    "df = scrape_content(\"https://en.wikipedia.org/wiki/Bombard_(weapon)\")"
   ]
  },
  {
   "cell_type": "code",
   "execution_count": 13,
   "outputs": [
    {
     "data": {
      "text/plain": "                                              content\n0                        Bombard (weapon) - Wikipedia\n1                                     Jump to content\n2                                      Toggle sidebar\n3                                              Search\n4                                Create accountLog in\n..                                                ...\n75  vteEarly firearms and thermal weapons\\nTimelin...\n76  Category:Early modern firearms\\nCategory:Early...\n77  Retrieved from \"https://en.wikipedia.org/w/ind...\n78  This page was last edited on 25 February 2023,...\n79  Privacy policy\\nAbout Wikipedia\\nDisclaimers\\n...\n\n[80 rows x 1 columns]",
      "text/html": "<div>\n<style scoped>\n    .dataframe tbody tr th:only-of-type {\n        vertical-align: middle;\n    }\n\n    .dataframe tbody tr th {\n        vertical-align: top;\n    }\n\n    .dataframe thead th {\n        text-align: right;\n    }\n</style>\n<table border=\"1\" class=\"dataframe\">\n  <thead>\n    <tr style=\"text-align: right;\">\n      <th></th>\n      <th>content</th>\n    </tr>\n  </thead>\n  <tbody>\n    <tr>\n      <th>0</th>\n      <td>Bombard (weapon) - Wikipedia</td>\n    </tr>\n    <tr>\n      <th>1</th>\n      <td>Jump to content</td>\n    </tr>\n    <tr>\n      <th>2</th>\n      <td>Toggle sidebar</td>\n    </tr>\n    <tr>\n      <th>3</th>\n      <td>Search</td>\n    </tr>\n    <tr>\n      <th>4</th>\n      <td>Create accountLog in</td>\n    </tr>\n    <tr>\n      <th>...</th>\n      <td>...</td>\n    </tr>\n    <tr>\n      <th>75</th>\n      <td>vteEarly firearms and thermal weapons\\nTimelin...</td>\n    </tr>\n    <tr>\n      <th>76</th>\n      <td>Category:Early modern firearms\\nCategory:Early...</td>\n    </tr>\n    <tr>\n      <th>77</th>\n      <td>Retrieved from \"https://en.wikipedia.org/w/ind...</td>\n    </tr>\n    <tr>\n      <th>78</th>\n      <td>This page was last edited on 25 February 2023,...</td>\n    </tr>\n    <tr>\n      <th>79</th>\n      <td>Privacy policy\\nAbout Wikipedia\\nDisclaimers\\n...</td>\n    </tr>\n  </tbody>\n</table>\n<p>80 rows × 1 columns</p>\n</div>"
     },
     "execution_count": 13,
     "metadata": {},
     "output_type": "execute_result"
    }
   ],
   "source": [
    "df"
   ],
   "metadata": {
    "collapsed": false
   }
  },
  {
   "cell_type": "code",
   "execution_count": 4,
   "metadata": {},
   "outputs": [],
   "source": [
    "from config import MONGO_URI\n",
    "from pymongo import MongoClient\n",
    "\n",
    "client  = MongoClient(MONGO_URI)\n",
    "db = client.openai_test"
   ]
  },
  {
   "cell_type": "code",
   "execution_count": 14,
   "metadata": {},
   "outputs": [
    {
     "name": "stdout",
     "output_type": "stream",
     "text": [
      "Processing dataframe...\n",
      "Computing embeddings...\n"
     ]
    },
    {
     "data": {
      "text/plain": "Downloading (…)e9125/.gitattributes:   0%|          | 0.00/1.18k [00:00<?, ?B/s]",
      "application/vnd.jupyter.widget-view+json": {
       "version_major": 2,
       "version_minor": 0,
       "model_id": "d033e9beba8145ca8c715b1bc696200d"
      }
     },
     "metadata": {},
     "output_type": "display_data"
    },
    {
     "data": {
      "text/plain": "Downloading (…)_Pooling/config.json:   0%|          | 0.00/190 [00:00<?, ?B/s]",
      "application/vnd.jupyter.widget-view+json": {
       "version_major": 2,
       "version_minor": 0,
       "model_id": "7a4e2b6af39540409c0827f6701b71f2"
      }
     },
     "metadata": {},
     "output_type": "display_data"
    },
    {
     "data": {
      "text/plain": "Downloading (…)7e55de9125/README.md:   0%|          | 0.00/10.6k [00:00<?, ?B/s]",
      "application/vnd.jupyter.widget-view+json": {
       "version_major": 2,
       "version_minor": 0,
       "model_id": "972f1baf0e70413b98984ea8653ce009"
      }
     },
     "metadata": {},
     "output_type": "display_data"
    },
    {
     "data": {
      "text/plain": "Downloading (…)55de9125/config.json:   0%|          | 0.00/612 [00:00<?, ?B/s]",
      "application/vnd.jupyter.widget-view+json": {
       "version_major": 2,
       "version_minor": 0,
       "model_id": "000a6dcf53904b6199de0158c9ea194d"
      }
     },
     "metadata": {},
     "output_type": "display_data"
    },
    {
     "data": {
      "text/plain": "Downloading (…)ce_transformers.json:   0%|          | 0.00/116 [00:00<?, ?B/s]",
      "application/vnd.jupyter.widget-view+json": {
       "version_major": 2,
       "version_minor": 0,
       "model_id": "4c4073f8e9ef4605a1ece4eed40dcf3b"
      }
     },
     "metadata": {},
     "output_type": "display_data"
    },
    {
     "data": {
      "text/plain": "Downloading (…)125/data_config.json:   0%|          | 0.00/39.3k [00:00<?, ?B/s]",
      "application/vnd.jupyter.widget-view+json": {
       "version_major": 2,
       "version_minor": 0,
       "model_id": "8be2e6642ae2470bae86dc3fe4dc58e9"
      }
     },
     "metadata": {},
     "output_type": "display_data"
    },
    {
     "data": {
      "text/plain": "Downloading pytorch_model.bin:   0%|          | 0.00/90.9M [00:00<?, ?B/s]",
      "application/vnd.jupyter.widget-view+json": {
       "version_major": 2,
       "version_minor": 0,
       "model_id": "3e01602a6cef4fb2840cf091b6f4ead9"
      }
     },
     "metadata": {},
     "output_type": "display_data"
    },
    {
     "data": {
      "text/plain": "Downloading (…)nce_bert_config.json:   0%|          | 0.00/53.0 [00:00<?, ?B/s]",
      "application/vnd.jupyter.widget-view+json": {
       "version_major": 2,
       "version_minor": 0,
       "model_id": "56acf4f7c9284fb6ab61e378424bafd6"
      }
     },
     "metadata": {},
     "output_type": "display_data"
    },
    {
     "data": {
      "text/plain": "Downloading (…)cial_tokens_map.json:   0%|          | 0.00/112 [00:00<?, ?B/s]",
      "application/vnd.jupyter.widget-view+json": {
       "version_major": 2,
       "version_minor": 0,
       "model_id": "c445f2aab4f34a6bb1e3c5ee4d5c8136"
      }
     },
     "metadata": {},
     "output_type": "display_data"
    },
    {
     "data": {
      "text/plain": "Downloading (…)e9125/tokenizer.json:   0%|          | 0.00/466k [00:00<?, ?B/s]",
      "application/vnd.jupyter.widget-view+json": {
       "version_major": 2,
       "version_minor": 0,
       "model_id": "0f155bd5980b4909bea8f4fb8c56ddc6"
      }
     },
     "metadata": {},
     "output_type": "display_data"
    },
    {
     "data": {
      "text/plain": "Downloading (…)okenizer_config.json:   0%|          | 0.00/350 [00:00<?, ?B/s]",
      "application/vnd.jupyter.widget-view+json": {
       "version_major": 2,
       "version_minor": 0,
       "model_id": "ffbe5822569544d7b662d1cc8fcc1745"
      }
     },
     "metadata": {},
     "output_type": "display_data"
    },
    {
     "data": {
      "text/plain": "Downloading (…)9125/train_script.py:   0%|          | 0.00/13.2k [00:00<?, ?B/s]",
      "application/vnd.jupyter.widget-view+json": {
       "version_major": 2,
       "version_minor": 0,
       "model_id": "dbaa96f9da954aa38d04265d28491751"
      }
     },
     "metadata": {},
     "output_type": "display_data"
    },
    {
     "data": {
      "text/plain": "Downloading (…)7e55de9125/vocab.txt:   0%|          | 0.00/232k [00:00<?, ?B/s]",
      "application/vnd.jupyter.widget-view+json": {
       "version_major": 2,
       "version_minor": 0,
       "model_id": "199842a9bc4848d4806650bcf3abb02c"
      }
     },
     "metadata": {},
     "output_type": "display_data"
    },
    {
     "data": {
      "text/plain": "Downloading (…)5de9125/modules.json:   0%|          | 0.00/349 [00:00<?, ?B/s]",
      "application/vnd.jupyter.widget-view+json": {
       "version_major": 2,
       "version_minor": 0,
       "model_id": "628f2ad70eca4fc5aa6cc88754ab7c59"
      }
     },
     "metadata": {},
     "output_type": "display_data"
    },
    {
     "name": "stdout",
     "output_type": "stream",
     "text": [
      "Answering query...\n",
      "Answering query...\n",
      "model_lang en\n",
      "Selected 17 document sections:\n",
      "16\n",
      "73\n",
      "66\n",
      "65\n",
      "10\n",
      "28\n",
      "72\n",
      "52\n",
      "36\n",
      "49\n",
      "41\n",
      "68\n",
      "69\n",
      "50\n",
      "26\n",
      "14\n",
      "30\n",
      "Answer the question as truthfully as possible using the provided context, and if the answer is not contained within the text below, say \"I don't know.\"\n",
      "\n",
      "Context:\n",
      "\n",
      "* Download as PDFPrintable version\n",
      "* ^ Schmidtchen (1977b), pp. 226–228\n",
      "* ^ DeVries 2012, p. 155.\n",
      "* ^ Andrade 2016, p. 83.\n",
      "* Main pageContentsCurrent eventsRandom articleAbout WikipediaContact usDonate\n",
      "* 6Notes\n",
      "* ^ \"Bodiam Bombard | Kent and Sussex Courier\". Archived from the original on 2015-09-23. Retrieved 2015-04-13.\n",
      "* The Dardanelles Gun.\n",
      "* ArticleTalk\n",
      "* Gallery[edit]\n",
      "* From Wikipedia, the free encyclopedia\n",
      "* ^ Aung-Thwin, Michael; Hall, Kenneth (2011). \"New Perspectives on the History and Historiography of Southeast Asia\": 85. {{cite journal}}: Cite journal requires |journal= (help)\n",
      "* ^ File:Westgate 076.jpg\n",
      "* \"Hand bombard\", 1390–1400\n",
      "* 4Gallery\n",
      "* What links hereRelated changesUpload fileSpecial pagesPermanent linkPage informationCite this pageWikidata item\n",
      "* 8Further reading\n",
      "\n",
      " Q: What is the title of this PDF?\n",
      " A:\n",
      "Done!\n"
     ]
    }
   ],
   "source": [
    "basic_extractor = BasicExtractor(dataframe=df, embedding_extractor=\"hf\", model_lang=\"en\", is_turbo=True)\n",
    "answer, prompt, messages = basic_extractor.extract(\"What is the title of this PDF?\", max_tokens=300)"
   ]
  },
  {
   "cell_type": "code",
   "execution_count": 16,
   "metadata": {},
   "outputs": [
    {
     "data": {
      "text/plain": "\"I don't know.\""
     },
     "execution_count": 16,
     "metadata": {},
     "output_type": "execute_result"
    }
   ],
   "source": [
    "answer"
   ]
  },
  {
   "cell_type": "code",
   "execution_count": 18,
   "metadata": {},
   "outputs": [
    {
     "name": "stdout",
     "output_type": "stream",
     "text": [
      "Processing dataframe...\n",
      "Computing embeddings...\n",
      "Answering query...\n",
      "Answering query...\n",
      "model_lang en\n",
      "Selected 9 document sections:\n",
      "0\n",
      "33\n",
      "60\n",
      "62\n",
      "67\n",
      "50\n",
      "46\n",
      "72\n",
      "61\n",
      "Answer the question as truthfully as possible using the provided context, and if the answer is not contained within the text below, say \"I don't know.\"\n",
      "\n",
      "Context:\n",
      "\n",
      "* Bombard (weapon) - Wikipedia\n",
      "* Bombard (weapon)\n",
      "* Bombard in its siege position, Denmark.\n",
      "* Wikimedia Commons has media related to Bombards (weapon).\n",
      "* ^ Gwei-Djen, Lu; Needham, Joseph; Chi-Hsing, Phan (July 1988). \"The Oldest Representation of a Bombard\". Technology and Culture. 29 (3): 594–605. doi:10.2307/3105275. JSTOR 3105275.\n",
      "* \"Hand bombard\", 1390–1400\n",
      "* Terminology[edit] The term \"bombard\" was first used to describe guns of any kind from the early to mid-14th century, but it was later applied primarily to large cannons during the 14th to 15th centuries.[2] Despite its strong association with large cannons, there is no standard size for bombards, and the term has been applied to cannons only a meter in length as well as cannons several meters long weighing up to 20 tonnes.[3]\n",
      "* ^ \"Bodiam Bombard | Kent and Sussex Courier\". Archived from the original on 2015-09-23. Retrieved 2015-04-13.\n",
      "* A bombard recovered from the well of Cardiff castle, in swivel configuration.\n",
      "\n",
      " Q: What is Bombard?\n",
      " A:\n",
      "Done!\n"
     ]
    }
   ],
   "source": [
    "answer, prompt, messages = basic_extractor.extract(\"What is Bombard?\", max_tokens=300, to_save=False, mongo_client=None)"
   ]
  },
  {
   "cell_type": "code",
   "execution_count": 22,
   "metadata": {},
   "outputs": [
    {
     "data": {
      "text/plain": "'Bombard is a type of weapon, specifically a large cannon, that was used during the 14th to 15th centuries. The term has been applied to cannons of varying sizes and weights.'"
     },
     "execution_count": 22,
     "metadata": {},
     "output_type": "execute_result"
    }
   ],
   "source": [
    "answer"
   ]
  },
  {
   "cell_type": "code",
   "execution_count": 24,
   "metadata": {},
   "outputs": [
    {
     "data": {
      "text/plain": "[{'role': 'user',\n  'content': 'Answer the question as truthfully as possible using the provided context, and if the answer is not contained within the text below, say \"I don\\'t know.\"\\n\\nContext:\\n\\n* Download as PDFPrintable version\\n* ^ Schmidtchen (1977b), pp. 226–228\\n* ^ DeVries 2012, p.\\xa0155.\\n* ^ Andrade 2016, p.\\xa083.\\n* Main pageContentsCurrent eventsRandom articleAbout WikipediaContact usDonate\\n* 6Notes\\n* ^ \"Bodiam Bombard | Kent and Sussex Courier\". Archived from the original on 2015-09-23. Retrieved 2015-04-13.\\n* The Dardanelles Gun.\\n* ArticleTalk\\n* Gallery[edit]\\n* From Wikipedia, the free encyclopedia\\n* ^ Aung-Thwin, Michael; Hall, Kenneth (2011). \"New Perspectives on the History and Historiography of Southeast Asia\": 85. {{cite journal}}: Cite journal requires |journal= (help)\\n* ^ File:Westgate 076.jpg\\n* \"Hand bombard\", 1390–1400\\n* 4Gallery\\n* What links hereRelated changesUpload fileSpecial pagesPermanent linkPage informationCite this pageWikidata item\\n* 8Further reading\\n\\n Q: What is the title of this PDF?\\n A:'},\n {'role': 'assistant', 'content': \"I don't know.\"},\n {'role': 'user',\n  'content': 'Answer the question as truthfully as possible using the provided context, and if the answer is not contained within the text below, say \"I don\\'t know.\"\\n\\nContext:\\n\\n* Bombard (weapon) - Wikipedia\\n* Bombard (weapon)\\n* Bombard in its siege position, Denmark.\\n* Wikimedia Commons has media related to Bombards (weapon).\\n* ^ Gwei-Djen, Lu; Needham, Joseph; Chi-Hsing, Phan (July 1988). \"The Oldest Representation of a Bombard\". Technology and Culture. 29 (3): 594–605. doi:10.2307/3105275. JSTOR\\xa03105275.\\n* \"Hand bombard\", 1390–1400\\n* Terminology[edit] The term \"bombard\" was first used to describe guns of any kind from the early to mid-14th century, but it was later applied primarily to large cannons during the 14th to 15th centuries.[2] Despite its strong association with large cannons, there is no standard size for bombards, and the term has been applied to cannons only a meter in length as well as cannons several meters long weighing up to 20 tonnes.[3]\\n* ^ \"Bodiam Bombard | Kent and Sussex Courier\". Archived from the original on 2015-09-23. Retrieved 2015-04-13.\\n* A bombard recovered from the well of Cardiff castle, in swivel configuration.\\n\\n Q: What is Bombard?\\n A:'},\n {'role': 'assistant',\n  'content': 'Bombard is a type of weapon, specifically a large cannon, that was used during the 14th to 15th centuries. The term has been applied to cannons of varying sizes and weights.'}]"
     },
     "execution_count": 24,
     "metadata": {},
     "output_type": "execute_result"
    }
   ],
   "source": [
    "messages"
   ]
  }
 ],
 "metadata": {
  "kernelspec": {
   "display_name": "knowledgegpt-env",
   "language": "python",
   "name": "python3"
  },
  "language_info": {
   "codemirror_mode": {
    "name": "ipython",
    "version": 3
   },
   "file_extension": ".py",
   "mimetype": "text/x-python",
   "name": "python",
   "nbconvert_exporter": "python",
   "pygments_lexer": "ipython3",
   "version": "3.9.16"
  },
  "orig_nbformat": 4
 },
 "nbformat": 4,
 "nbformat_minor": 2
}
