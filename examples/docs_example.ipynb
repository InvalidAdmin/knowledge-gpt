{
 "cells": [
  {
   "cell_type": "code",
   "execution_count": 1,
   "metadata": {},
   "outputs": [],
   "source": [
    "import openai\n",
    "from example_config import SECRET_KEY, MONGO_URI\n",
    "openai.api_key = SECRET_KEY"
   ]
  },
  {
   "cell_type": "code",
   "execution_count": 2,
   "metadata": {},
   "outputs": [],
   "source": [
    "from knowledgegpt.extractors.docs_extractor import DocsExtractor"
   ]
  },
  {
   "cell_type": "code",
   "execution_count": 3,
   "metadata": {},
   "outputs": [],
   "source": [
    "from pymongo import MongoClient\n",
    "\n",
    "client  = MongoClient(MONGO_URI)\n",
    "db = client.openai_test"
   ]
  },
  {
   "cell_type": "code",
   "execution_count": 13,
   "metadata": {},
   "outputs": [],
   "source": [
    "docs_extractor = DocsExtractor(file_path=\"../example.docx\", embedding_extractor=\"hf\", model_lang=\"en\", is_turbo=False)"
   ]
  },
  {
   "cell_type": "code",
   "execution_count": 14,
   "metadata": {},
   "outputs": [
    {
     "name": "stdout",
     "output_type": "stream",
     "text": [
      "Processing Word file...\n",
      "Extracting paragraphs...\n",
      "Computing embeddings...\n",
      "Answering query...\n",
      "model_lang en\n",
      "Selected 8 document sections:\n",
      "0\n",
      "171\n",
      "193\n",
      "106\n",
      "113\n",
      "86\n",
      "201\n",
      "4\n",
      "Answer the question as truthfully as possible using the provided context, and if the answer is not contained within the text below, say \"I don't know.\"\n",
      "\n",
      "Context:\n",
      "\n",
      "* General Overview of Object Detection Models\n",
      "* Here below we have a list of object detection transformers, the list is originally from here;  \n",
      "* CF-DETR: Coarse-to-Fine Transformers for End-to-End Object Detection:  Only paper is available, so not examined so much, no summary.  Paper:   \n",
      "* Below you can see how a vision transformer works to perform image classification tasks. \n",
      "* ​​​What is a Vision Transformer, a little bit more context on the concept?\n",
      "*  “Detectron is Facebook AI Research's software system that implements state-of-the-art object detection algorithms, including Mask R-CNN. It is written in Python and powered by the Caffe2 deep learning framework.\n",
      "* Dynamic DETR: End-to-End Object Detection With Dynamic Attention.  Only paper is available, so not examined so much, no summary.\n",
      "* YOLO stands for You Only Look Once is a really popular real-time object detection algorithm, or maybe as of now with the increasing number of new models starting with the prefix YOLO it’s an algorithm/model family that is being formed around a similar idea.\n",
      "\n",
      " Q: What is an object detection system?\n",
      " A:\n",
      "Saving to Mongo...\n",
      "Done!\n"
     ]
    }
   ],
   "source": [
    "answer, prompt, messages = \\\n",
    "    docs_extractor.extract( query=\"What is an object detection system?\", max_tokens=300, to_save=True, mongo_client=db)"
   ]
  },
  {
   "cell_type": "code",
   "execution_count": 15,
   "metadata": {},
   "outputs": [
    {
     "data": {
      "text/plain": [
       "[]"
      ]
     },
     "execution_count": 15,
     "metadata": {},
     "output_type": "execute_result"
    }
   ],
   "source": [
    "messages"
   ]
  },
  {
   "cell_type": "code",
   "execution_count": 16,
   "metadata": {},
   "outputs": [
    {
     "data": {
      "text/plain": [
       "'An object detection system is a computer vision system that is used to detect and localize objects in an image or video. It typically uses a combination of feature extraction, object classification, and object localization algorithms to identify objects in an image or video.'"
      ]
     },
     "execution_count": 16,
     "metadata": {},
     "output_type": "execute_result"
    }
   ],
   "source": [
    "answer"
   ]
  },
  {
   "cell_type": "code",
   "execution_count": 19,
   "metadata": {},
   "outputs": [
    {
     "name": "stdout",
     "output_type": "stream",
     "text": [
      "Processing Word file...\n",
      "Extracting paragraphs...\n",
      "Computing embeddings...\n",
      "Answering query...\n",
      "model_lang en\n",
      "Selected 7 document sections:\n",
      "0\n",
      "171\n",
      "193\n",
      "56\n",
      "106\n",
      "201\n",
      "207\n",
      "Answer the question as truthfully as possible using the provided context, and if the answer is not contained within the text below, say \"I don't know.\"\n",
      "\n",
      "Context:\n",
      "\n",
      "* General Overview of Object Detection Models\n",
      "* Here below we have a list of object detection transformers, the list is originally from here;  \n",
      "* CF-DETR: Coarse-to-Fine Transformers for End-to-End Object Detection:  Only paper is available, so not examined so much, no summary.  Paper:   \n",
      "* RCNN is first proposed to overcome some problems that normal CNNs were not able to solve in the object detection domain, normal CNNs were selecting too many regions to do detection on.\n",
      "* Below you can see how a vision transformer works to perform image classification tasks. \n",
      "* Dynamic DETR: End-to-End Object Detection With Dynamic Attention.  Only paper is available, so not examined so much, no summary.\n",
      "* Rethinking Transformer-based Set Prediction for Object Detection:   This approach comes up with 2 ideas, namely, TSP-FCOS (Transformer-based Set Prediction with FCOS) and TSP-RCNN (Transformer-based Set Prediction with RCNN). Experimental results show that the proposed methods not only converge much faster than the original DETR.    Paper:   Code:   \n",
      "\n",
      " Q: What are different object detection systems?\n",
      " A:\n",
      "Done!\n"
     ]
    }
   ],
   "source": [
    "answer, prompt, messages = \\\n",
    "    docs_extractor.extract( query=\"What are different object detection systems?\", max_tokens=300, to_save=False)"
   ]
  },
  {
   "cell_type": "code",
   "execution_count": 20,
   "metadata": {},
   "outputs": [
    {
     "data": {
      "text/plain": [
       "[]"
      ]
     },
     "execution_count": 20,
     "metadata": {},
     "output_type": "execute_result"
    }
   ],
   "source": [
    "messages"
   ]
  },
  {
   "cell_type": "code",
   "execution_count": 21,
   "metadata": {},
   "outputs": [
    {
     "data": {
      "text/plain": [
       "'CF-DETR, RCNN, Dynamic DETR, and TSP-FCOS and TSP-RCNN.'"
      ]
     },
     "execution_count": 21,
     "metadata": {},
     "output_type": "execute_result"
    }
   ],
   "source": [
    "answer"
   ]
  },
  {
   "cell_type": "code",
   "execution_count": null,
   "metadata": {},
   "outputs": [],
   "source": []
  }
 ],
 "metadata": {
  "kernelspec": {
   "display_name": "knowledgegpt-env",
   "language": "python",
   "name": "python3"
  },
  "language_info": {
   "codemirror_mode": {
    "name": "ipython",
    "version": 3
   },
   "file_extension": ".py",
   "mimetype": "text/x-python",
   "name": "python",
   "nbconvert_exporter": "python",
   "pygments_lexer": "ipython3",
   "version": "3.9.16"
  },
  "orig_nbformat": 4
 },
 "nbformat": 4,
 "nbformat_minor": 2
}
