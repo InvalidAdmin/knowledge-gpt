{
 "cells": [
  {
   "cell_type": "code",
   "execution_count": 1,
   "metadata": {},
   "outputs": [],
   "source": [
    "import openai\n",
    "from example_config import SECRET_KEY\n",
    "\n",
    "openai.api_key = SECRET_KEY"
   ]
  },
  {
   "cell_type": "code",
   "execution_count": 2,
   "metadata": {},
   "outputs": [],
   "source": [
    "from knowledgegpt.extractors.docs_extractor import DocsExtractor"
   ]
  },
  {
   "cell_type": "code",
   "execution_count": 24,
   "metadata": {},
   "outputs": [],
   "source": [
    "docs_extractor = DocsExtractor(file_path=\"../example.docx\", embedding_extractor=\"hf\", model_lang=\"en\", is_turbo=True,\n",
    "                               index_path=\"calculated_indexes/doc_index\", index_type=\"faiss\")"
   ]
  },
  {
   "cell_type": "code",
   "execution_count": 25,
   "metadata": {},
   "outputs": [
    {
     "name": "stdout",
     "output_type": "stream",
     "text": [
      "model_lang en\n",
      "DONE, FAISS\n",
      "Selected 8 document sections:\n",
      "0\n",
      "171\n",
      "193\n",
      "106\n",
      "113\n",
      "86\n",
      "201\n",
      "4\n",
      "Answer the question as truthfully as possible using the provided context, and if the answer is not contained within the text below, say \"I don't know.\"\n",
      "\n",
      "Context:\n",
      "\n",
      "* General Overview of Object Detection Models\n",
      "* Here below we have a list of object detection transformers, the list is originally from here;  \n",
      "* CF-DETR: Coarse-to-Fine Transformers for End-to-End Object Detection:  Only paper is available, so not examined so much, no summary.  Paper:   \n",
      "* Below you can see how a vision transformer works to perform image classification tasks. \n",
      "* ​​​What is a Vision Transformer, a little bit more context on the concept?\n",
      "*  “Detectron is Facebook AI Research's software system that implements state-of-the-art object detection algorithms, including Mask R-CNN. It is written in Python and powered by the Caffe2 deep learning framework.\n",
      "* Dynamic DETR: End-to-End Object Detection With Dynamic Attention.  Only paper is available, so not examined so much, no summary.\n",
      "* YOLO stands for You Only Look Once is a really popular real-time object detection algorithm, or maybe as of now with the increasing number of new models starting with the prefix YOLO it’s an algorithm/model family that is being formed around a similar idea.\n",
      "\n",
      " Q: What is an object detection system?\n",
      " A:\n",
      "all_done!\n"
     ]
    }
   ],
   "source": [
    "# First time, it will compute embeddings and save index\n",
    "# answer, prompt, messages = \\\n",
    "#     docs_extractor.extract( query=\"What is an object detection system?\", max_tokens=300)\n",
    "# Then you can load the index\n",
    "answer, prompt, messages = docs_extractor.extract(query=\"What is an object detection system?\", max_tokens=300,\n",
    "                                                  load_index=True)"
   ]
  },
  {
   "cell_type": "code",
   "execution_count": 26,
   "metadata": {},
   "outputs": [
    {
     "data": {
      "text/plain": [
       "[{'role': 'system', 'content': 'you are a helpful assistant'},\n",
       " {'role': 'user',\n",
       "  'content': 'Answer the question as truthfully as possible using the provided context, and if the answer is not contained within the text below, say \"I don\\'t know.\"\\n\\nContext:\\n\\n* General Overview of Object Detection Models\\n* Here below we have a list of object detection transformers, the list is originally from here;  \\n* CF-DETR: Coarse-to-Fine Transformers for End-to-End Object Detection:  Only paper is available, so not examined so much, no summary.  Paper:   \\n* Below you can see how a vision transformer works to perform image classification tasks. \\n* \\u200b\\u200b\\u200bWhat is a Vision Transformer, a little bit more context on the concept?\\n*  “Detectron is Facebook AI Research\\'s software system that implements state-of-the-art object detection algorithms, including Mask R-CNN. It is written in Python and powered by the Caffe2 deep learning framework.\\n* Dynamic DETR: End-to-End Object Detection With Dynamic Attention.  Only paper is available, so not examined so much, no summary.\\n* YOLO stands for You Only Look Once is a really popular real-time object detection algorithm, or maybe as of now with the increasing number of new models starting with the prefix YOLO it’s an algorithm/model family that is being formed around a similar idea.\\n\\n Q: What is an object detection system?\\n A:'},\n",
       " {'role': 'assistant',\n",
       "  'content': 'An object detection system is a software system that uses deep learning algorithms to identify and locate objects within an image or video. It can be implemented using various models such as YOLO, DETR, and vision transformers.'}]"
      ]
     },
     "execution_count": 26,
     "metadata": {},
     "output_type": "execute_result"
    }
   ],
   "source": [
    "messages"
   ]
  },
  {
   "cell_type": "code",
   "execution_count": 27,
   "metadata": {},
   "outputs": [
    {
     "data": {
      "text/plain": [
       "'An object detection system is a software system that uses deep learning algorithms to identify and locate objects within an image or video. It can be implemented using various models such as YOLO, DETR, and vision transformers.'"
      ]
     },
     "execution_count": 27,
     "metadata": {},
     "output_type": "execute_result"
    }
   ],
   "source": [
    "answer"
   ]
  },
  {
   "cell_type": "code",
   "execution_count": 29,
   "metadata": {},
   "outputs": [
    {
     "name": "stdout",
     "output_type": "stream",
     "text": [
      "Directory  calculated_indexes/doc_index  already exists\n",
      "What are different object detection systems?\n",
      "all_done!\n"
     ]
    }
   ],
   "source": [
    "answer, prompt, messages = docs_extractor.extract(query=\"What are different object detection systems?\", max_tokens=300)"
   ]
  },
  {
   "cell_type": "code",
   "execution_count": 30,
   "metadata": {},
   "outputs": [
    {
     "data": {
      "text/plain": [
       "[{'role': 'system', 'content': 'you are a helpful assistant'},\n",
       " {'role': 'user',\n",
       "  'content': 'Answer the question as truthfully as possible using the provided context, and if the answer is not contained within the text below, say \"I don\\'t know.\"\\n\\nContext:\\n\\n* General Overview of Object Detection Models\\n* Here below we have a list of object detection transformers, the list is originally from here;  \\n* CF-DETR: Coarse-to-Fine Transformers for End-to-End Object Detection:  Only paper is available, so not examined so much, no summary.  Paper:   \\n* Below you can see how a vision transformer works to perform image classification tasks. \\n* \\u200b\\u200b\\u200bWhat is a Vision Transformer, a little bit more context on the concept?\\n*  “Detectron is Facebook AI Research\\'s software system that implements state-of-the-art object detection algorithms, including Mask R-CNN. It is written in Python and powered by the Caffe2 deep learning framework.\\n* Dynamic DETR: End-to-End Object Detection With Dynamic Attention.  Only paper is available, so not examined so much, no summary.\\n* YOLO stands for You Only Look Once is a really popular real-time object detection algorithm, or maybe as of now with the increasing number of new models starting with the prefix YOLO it’s an algorithm/model family that is being formed around a similar idea.\\n\\n Q: What is an object detection system?\\n A:'},\n",
       " {'role': 'assistant',\n",
       "  'content': 'An object detection system is a software system that uses deep learning algorithms to identify and locate objects within an image or video. It can be implemented using various models such as YOLO, DETR, and vision transformers.'},\n",
       " {'role': 'user', 'content': 'What are different object detection systems?'},\n",
       " {'role': 'user', 'content': 'What are different object detection systems?'},\n",
       " {'role': 'assistant',\n",
       "  'content': 'There are several object detection systems, including:\\n\\n1. YOLO (You Only Look Once)\\n2. Faster R-CNN (Region-based Convolutional Neural Network)\\n3. Mask R-CNN (Mask Region-based Convolutional Neural Network)\\n4. RetinaNet\\n5. SSD (Single Shot Detector)\\n6. RCNN (Region-based Convolutional Neural Network)\\n7. Fast R-CNN\\n8. Cascade R-CNN\\n9. CenterNet\\n10. EfficientDet\\n\\nThese systems use deep learning algorithms to identify and locate objects within an image or video.'}]"
      ]
     },
     "execution_count": 30,
     "metadata": {},
     "output_type": "execute_result"
    }
   ],
   "source": [
    "messages"
   ]
  },
  {
   "cell_type": "code",
   "execution_count": 31,
   "metadata": {},
   "outputs": [
    {
     "data": {
      "text/plain": [
       "'There are several object detection systems, including:\\n\\n1. YOLO (You Only Look Once)\\n2. Faster R-CNN (Region-based Convolutional Neural Network)\\n3. Mask R-CNN (Mask Region-based Convolutional Neural Network)\\n4. RetinaNet\\n5. SSD (Single Shot Detector)\\n6. RCNN (Region-based Convolutional Neural Network)\\n7. Fast R-CNN\\n8. Cascade R-CNN\\n9. CenterNet\\n10. EfficientDet\\n\\nThese systems use deep learning algorithms to identify and locate objects within an image or video.'"
      ]
     },
     "execution_count": 31,
     "metadata": {},
     "output_type": "execute_result"
    }
   ],
   "source": [
    "answer"
   ]
  }
 ],
 "metadata": {
  "kernelspec": {
   "display_name": "knowledgegpt-env",
   "language": "python",
   "name": "python3"
  },
  "language_info": {
   "codemirror_mode": {
    "name": "ipython",
    "version": 3
   },
   "file_extension": ".py",
   "mimetype": "text/x-python",
   "name": "python",
   "nbconvert_exporter": "python",
   "pygments_lexer": "ipython3",
   "version": "3.9.16"
  },
  "orig_nbformat": 4
 },
 "nbformat": 4,
 "nbformat_minor": 2
}
