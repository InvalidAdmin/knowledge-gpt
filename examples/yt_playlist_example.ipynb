{
 "cells": [
  {
   "cell_type": "code",
   "execution_count": 1,
   "metadata": {},
   "outputs": [],
   "source": [
    "import openai\n",
    "from example_config import SECRET_KEY\n",
    "openai.api_key = SECRET_KEY"
   ]
  },
  {
   "cell_type": "code",
   "execution_count": 2,
   "metadata": {},
   "outputs": [],
   "source": [
    "from knowledgegpt.extractors.yt_audio_extractor import YoutubeAudioExtractor"
   ]
  },
  {
   "cell_type": "code",
   "execution_count": 3,
   "metadata": {},
   "outputs": [],
   "source": [
    "playlist_url = \"https://www.youtube.com/playlist?list=PLXfJuTNYFOorUmRa3pyf-ZB-0sJXUB7rY\""
   ]
  },
  {
   "cell_type": "code",
   "execution_count": 4,
   "metadata": {},
   "outputs": [],
   "source": [
    "query = \"Derek Rose sakatlanmasa neler yapabilirdi?\""
   ]
  },
  {
   "cell_type": "code",
   "execution_count": 5,
   "metadata": {},
   "outputs": [],
   "source": [
    "# playlist usage\n",
    "scrape_yt_playlist = YoutubeAudioExtractor(playlist_url, embedding_extractor='hf', model_lang='tr', is_turbo=True, verbose=True, index_path=\"calculated_indexes/yt_playlist_new_test\", index_type=\"basic\", is_playlist=True)"
   ]
  },
  {
   "cell_type": "code",
   "execution_count": 6,
   "metadata": {},
   "outputs": [
    {
     "name": "stdout",
     "output_type": "stream",
     "text": [
      "[youtube:tab] Extracting URL: https://www.youtube.com/playlist?list=PLXfJuTNYFOorUmRa3pyf-ZB-0sJXUB7rY\n",
      "[youtube:tab] PLXfJuTNYFOorUmRa3pyf-ZB-0sJXUB7rY: Downloading webpage\n",
      "[youtube:tab] PLXfJuTNYFOorUmRa3pyf-ZB-0sJXUB7rY: Redownloading playlist API JSON with unavailable videos\n",
      "[download] Downloading playlist: test-playlist\n",
      "[youtube:tab] Playlist test-playlist: Downloading 2 items of 2\n",
      "[download] Downloading item 1 of 2\n",
      "[download] Downloading item 2 of 2\n",
      "[download] Finished downloading playlist: test-playlist\n",
      "[youtube] Extracting URL: https://www.youtube.com/watch?v=i40urc4kXF8\n",
      "[youtube] i40urc4kXF8: Downloading webpage\n",
      "[youtube] i40urc4kXF8: Downloading android player API JSON\n",
      "[info] i40urc4kXF8: Downloading 1 format(s): 251\n",
      "[dashsegments] Total fragments: 2\n",
      "[download] Destination: audio.webm\n",
      "[download] 100% of   16.29MiB in 00:00:18 at 913.51KiB/s             \n",
      "[ExtractAudio] Destination: audio.mp3\n",
      "Deleting original file audio.webm (pass -k to keep)\n",
      "[youtube] Extracting URL: https://www.youtube.com/watch?v=WQep2LBZjOM\n",
      "[youtube] WQep2LBZjOM: Downloading webpage\n",
      "[youtube] WQep2LBZjOM: Downloading android player API JSON\n",
      "[info] WQep2LBZjOM: Downloading 1 format(s): 251\n",
      "[dashsegments] Total fragments: 3\n",
      "[download] Destination: audio.webm\n",
      "[download] 100% of   23.06MiB in 00:00:22 at 1.01MiB/s               \n",
      "[ExtractAudio] Destination: audio.mp3\n",
      "Deleting original file audio.webm (pass -k to keep)\n",
      "Directory  calculated_indexes/yt_playlist_new_test  already exists\n"
     ]
    }
   ],
   "source": [
    "answer, prompt, messages = scrape_yt_playlist.extract(query, max_tokens=500)"
   ]
  },
  {
   "cell_type": "code",
   "execution_count": 7,
   "metadata": {},
   "outputs": [
    {
     "data": {
      "text/plain": [
       "375"
      ]
     },
     "execution_count": 7,
     "metadata": {},
     "output_type": "execute_result"
    }
   ],
   "source": [
    "len(scrape_yt_playlist.embeddings.keys())"
   ]
  },
  {
   "cell_type": "code",
   "execution_count": 8,
   "metadata": {},
   "outputs": [
    {
     "data": {
      "text/html": [
       "<div>\n",
       "<style scoped>\n",
       "    .dataframe tbody tr th:only-of-type {\n",
       "        vertical-align: middle;\n",
       "    }\n",
       "\n",
       "    .dataframe tbody tr th {\n",
       "        vertical-align: top;\n",
       "    }\n",
       "\n",
       "    .dataframe thead th {\n",
       "        text-align: right;\n",
       "    }\n",
       "</style>\n",
       "<table border=\"1\" class=\"dataframe\">\n",
       "  <thead>\n",
       "    <tr style=\"text-align: right;\">\n",
       "      <th></th>\n",
       "      <th>index</th>\n",
       "      <th>content</th>\n",
       "    </tr>\n",
       "  </thead>\n",
       "  <tbody>\n",
       "    <tr>\n",
       "      <th>0</th>\n",
       "      <td>0</td>\n",
       "      <td>Efsane koç Zeljko Obradović, koçing kariyerim ...</td>\n",
       "    </tr>\n",
       "    <tr>\n",
       "      <th>1</th>\n",
       "      <td>1</td>\n",
       "      <td>Onlara bakışımdan onlardan ne istediğimi biliy...</td>\n",
       "    </tr>\n",
       "    <tr>\n",
       "      <th>2</th>\n",
       "      <td>2</td>\n",
       "      <td>Dejan Bodiroga, Dimitris Diamantidis ve o demi...</td>\n",
       "    </tr>\n",
       "    <tr>\n",
       "      <th>3</th>\n",
       "      <td>3</td>\n",
       "      <td>Yıllarca onun için NBA dışında oynayan en iyi ...</td>\n",
       "    </tr>\n",
       "    <tr>\n",
       "      <th>4</th>\n",
       "      <td>4</td>\n",
       "      <td>1996 Atlanta Olimpiyatlarında Yugoslavia Gülüş...</td>\n",
       "    </tr>\n",
       "    <tr>\n",
       "      <th>...</th>\n",
       "      <td>...</td>\n",
       "      <td>...</td>\n",
       "    </tr>\n",
       "    <tr>\n",
       "      <th>370</th>\n",
       "      <td>240</td>\n",
       "      <td>If they hadn't removed it, maybe Derek Rose wo...</td>\n",
       "    </tr>\n",
       "    <tr>\n",
       "      <th>371</th>\n",
       "      <td>241</td>\n",
       "      <td>Today, in America, I told you a Chicago legend.</td>\n",
       "    </tr>\n",
       "    <tr>\n",
       "      <th>372</th>\n",
       "      <td>242</td>\n",
       "      <td>He was one of the most unfortunate, but greate...</td>\n",
       "    </tr>\n",
       "    <tr>\n",
       "      <th>373</th>\n",
       "      <td>243</td>\n",
       "      <td>Derek Rose.</td>\n",
       "    </tr>\n",
       "    <tr>\n",
       "      <th>374</th>\n",
       "      <td>244</td>\n",
       "      <td>These are the days in America.</td>\n",
       "    </tr>\n",
       "  </tbody>\n",
       "</table>\n",
       "<p>375 rows × 2 columns</p>\n",
       "</div>"
      ],
      "text/plain": [
       "     index                                            content\n",
       "0        0  Efsane koç Zeljko Obradović, koçing kariyerim ...\n",
       "1        1  Onlara bakışımdan onlardan ne istediğimi biliy...\n",
       "2        2  Dejan Bodiroga, Dimitris Diamantidis ve o demi...\n",
       "3        3  Yıllarca onun için NBA dışında oynayan en iyi ...\n",
       "4        4  1996 Atlanta Olimpiyatlarında Yugoslavia Gülüş...\n",
       "..     ...                                                ...\n",
       "370    240  If they hadn't removed it, maybe Derek Rose wo...\n",
       "371    241    Today, in America, I told you a Chicago legend.\n",
       "372    242  He was one of the most unfortunate, but greate...\n",
       "373    243                                        Derek Rose.\n",
       "374    244                     These are the days in America.\n",
       "\n",
       "[375 rows x 2 columns]"
      ]
     },
     "execution_count": 8,
     "metadata": {},
     "output_type": "execute_result"
    }
   ],
   "source": [
    "scrape_yt_playlist.df"
   ]
  },
  {
   "cell_type": "code",
   "execution_count": 12,
   "metadata": {},
   "outputs": [],
   "source": [
    "url = \"https://www.youtube.com/watch?v=WQep2LBZjOM\""
   ]
  },
  {
   "cell_type": "code",
   "execution_count": 13,
   "metadata": {},
   "outputs": [],
   "source": [
    "# normal usage\n",
    "scrape_yt = YoutubeAudioExtractor(url, embedding_extractor='hf', model_lang='tr', is_turbo=True, verbose=True)\n"
   ]
  },
  {
   "cell_type": "code",
   "execution_count": 16,
   "metadata": {},
   "outputs": [],
   "source": [
    "answer, prompt, messages = scrape_yt.extract(\"Derek Rose kimdir?\", max_tokens=500)"
   ]
  },
  {
   "cell_type": "code",
   "execution_count": 17,
   "metadata": {},
   "outputs": [
    {
     "data": {
      "text/plain": [
       "\"Derrick Rose, Amerikan Basketbol Ligi (NBA) takımlarından New York Knicks'te forma giyen Amerikalı profesyonel bir basketbolcudur.\""
      ]
     },
     "execution_count": 17,
     "metadata": {},
     "output_type": "execute_result"
    }
   ],
   "source": [
    "answer"
   ]
  },
  {
   "cell_type": "code",
   "execution_count": null,
   "metadata": {},
   "outputs": [],
   "source": []
  }
 ],
 "metadata": {
  "kernelspec": {
   "display_name": "knowledgegpt-env",
   "language": "python",
   "name": "python3"
  },
  "language_info": {
   "codemirror_mode": {
    "name": "ipython",
    "version": 3
   },
   "file_extension": ".py",
   "mimetype": "text/x-python",
   "name": "python",
   "nbconvert_exporter": "python",
   "pygments_lexer": "ipython3",
   "version": "3.9.16"
  },
  "orig_nbformat": 4
 },
 "nbformat": 4,
 "nbformat_minor": 2
}
