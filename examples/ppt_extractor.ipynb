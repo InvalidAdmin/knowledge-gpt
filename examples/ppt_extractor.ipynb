{
 "cells": [
  {
   "cell_type": "code",
   "execution_count": 3,
   "metadata": {},
   "outputs": [],
   "source": [
    "import openai\n",
    "from config import SECRET_KEY\n",
    "openai.api_key = SECRET_KEY"
   ]
  },
  {
   "cell_type": "code",
   "execution_count": 4,
   "metadata": {},
   "outputs": [],
   "source": [
    "from knowledgegpt.extractors.powerpoint_extractor import PowerpointExtractor"
   ]
  },
  {
   "cell_type": "code",
   "execution_count": 5,
   "metadata": {},
   "outputs": [],
   "source": [
    "import openai\n",
    "from config import SECRET_KEY\n",
    "openai.api_key = SECRET_KEY"
   ]
  },
  {
   "cell_type": "code",
   "execution_count": 6,
   "metadata": {},
   "outputs": [],
   "source": [
    "from config import MONGO_URI\n",
    "from pymongo import MongoClient\n",
    "\n",
    "client  = MongoClient(MONGO_URI)\n",
    "db = client.openai_test"
   ]
  },
  {
   "cell_type": "code",
   "execution_count": 7,
   "metadata": {},
   "outputs": [],
   "source": [
    "query = \"What is dashboard layout?\"\n",
    "ppt_file_path = \"../example_slide.pptx\""
   ]
  },
  {
   "cell_type": "code",
   "execution_count": 8,
   "metadata": {},
   "outputs": [
    {
     "name": "stdout",
     "output_type": "stream",
     "text": [
      "Processing PowerPoint file...\n",
      "Extracting paragraphs...\n",
      "Computing embeddings...\n",
      "Answering query...\n",
      "model_lang en\n",
      "Selected 15 document sections:\n",
      "10\n",
      "9\n",
      "0\n",
      "22\n",
      "16\n",
      "21\n",
      "15\n",
      "8\n",
      "1\n",
      "17\n",
      "11\n",
      "7\n",
      "3\n",
      "14\n",
      "23\n",
      "Answer the question as truthfully as possible using the provided context, and if the answer is not contained within the text below, say \"I don't know.\"\n",
      "\n",
      "Context:\n",
      "\n",
      "* DashboardLayout This is the main content of the layout file, the root component above  box is how we frame all of our components that’ll come in dashboard navbar is where we place our navbar sidebar is also like navbar These components navbar and sidebar are mostly complete on their own, they run logic, they store data etc.\n",
      "* components dashboard file contains all kinds of widgets, some of them aren’t actively displayed on the frontend too. data-popup, settings, setup and ssh-popup are files contains files that are not actively being changed at the moment utils is where we keep all kinds of utilities for everything imaginable, this part is going to be expanded a little bit later on. Visually the most important part here is the the layout logic we see, dashboard-layout is dependent on navbar and sidebar and is displayed in every page. \n",
      "* Dashboard Codebase Introduction \n",
      "* components/setup folder Both setups list and single setups are derived from this page. single-setup-lister is a file that exports single setup rendering “template” ( component ) As is shown on the left is using another helper component called CustomerLister, this is a utility component we wrote and every other component here is following a similar structure. Other files are the ones used in static setups route\n",
      "* setups.js setups.js is basically hosting 2 main parts; toolbar for search and filtering etc. setups list for listing setups this actually is possible because of the modular structure of react mentioned earlier, all of this smaller components are stored under the components folder. As you can see here we pass many properties to inner components, this way we are able to pass information and even functions so inner components can also use them. In case of not having our components stacked inside this closely, we use contextapi to read and manipulate general app state from anywhere.\n",
      "* Components\n",
      "* index.js Our entry file, whenever we open the app and go to the root path we see this page summarizing some states about the application. It’s only connecting to the “setup_overview” topic, and it’s updated every 5 seconds Is both accessing the global state over the context api (useContext) and maintains a local state using useState. Rarely changed lately, but making changes and updates here are often not problematic.\n",
      "* src file mocks file isn’t used as much anymore, keeps mock status data to first reload before datacomes, and placeholding when it doesn’t come. components is where we have nearly all of the supporting components of the actual pages we are building. icons is where we have the js versions of svg images pages is where we keep all of our pages and and makes our routing out of the box theme is like a setting file keeps a files about the overall theme utils is a file that keeps some basic utilities as well as general purpose stuff\n",
      "* General Overview It’s written in Javascript This type of applications are technically called as SPA(single page applications) Fundamentally uses React  Uses Next.js on top of React as the framework (basically every other approach when building React apps depends on a framework, even the original repo promotes their own command for setting React apps called create-react-app which acts like a ‘framework’) Next became the go to React framework in the past years. For package manager we use yarn \n",
      "* [setup].js Is our first dynamic route, I won’t explain here all the others in detail too, because fundamentally they are extremely similar to one another http://10.99.0.36/setup/airbloc_coinone-vg an example way of accesing one of the dynamic routes, we are able to see this route because the following happens when we go to setups page first; we see a bunch of setups with clickable links on them and we see our sidebar all the time ready to use as soon as we access our setups page, whenever a link is clicked ourapp takes us to a page like /setup/[setupname], when we arrive that page we have enough information to open our websockets then. In each of our dynamic routes we access 4 websockets, setup_overview for getting general setup information, setup_dyn_items is for our dynamic items setting widget, command_list for getting the commands to be able to use it shell and finally setup_sanity to access sanity information of our setups.\n",
      "* pages A file to approach with most caution, but easy to understand and handle _app and _document are not subjects of changes, we’ll use them as they are all the time. Every other file we see here is ready to use as a page and can be navigated, files inside [] are the dynamic routes while the others are static routes, their content is not static, only the file name. \n",
      "* Folder Structure During the development we use 3 of the files/folders here heavily. package.json for managing dependencies public for placing stuff like visuals and of course src file to keep all the code we have.\n",
      "* Next.js Server-side rendering: Next.js can render React components on the server, which provides better performance and SEO benefits compared to client-side rendering. Automatic code splitting: Next.js automatically splits your code into small chunks that are loaded on demand, improving page load times and reducing the amount of JavaScript that needs to be downloaded by the client. Static site generation: Next.js can generate static HTML files for your application, which can be served directly from a CDN for even faster performance. API routes: Next.js makes it easy to create API endpoints that can be called directly from the client or server. Built-in CSS support: Next.js supports CSS modules out of the box, making it easy to write modular and reusable CSS for your application. Routing: Next.js provides a file-based routing system that maps URLs to pages in your application. You can define routes by creating files with specific names (e.g. pages/about.js) and Next.js will automatically generate the necessary routing code for you.\n",
      "* General App State Use Context is where we consume data from a React context in a functional component. Below right is the content of _app.js file which makes this general app state ( context ) available for the whole app\n",
      "* components/datapopup-sshpopup data-popup and ssh-popup are not actively used at the moment, it allows you to create popup windows that one can fill with content and interact if wanted to.\n",
      "\n",
      " Q: What is dashboard layout?\n",
      " A:\n",
      "Done!\n"
     ]
    }
   ],
   "source": [
    "ppt_extractor = PowerpointExtractor(db, max_tokens=1500, embedding_extractor=\"hf\", model_lang=\"en\", to_save=True)\n",
    "answer, prompt, messages = ppt_extractor.extract(ppt_file_path, query)"
   ]
  },
  {
   "cell_type": "code",
   "execution_count": 9,
   "metadata": {},
   "outputs": [
    {
     "data": {
      "text/plain": [
       "'DashboardLayout is the main content of the layout file, the root component above which box is how we frame all of our components that’ll come in dashboard navbar and sidebar. It is dependent on navbar and sidebar and is displayed in every page.'"
      ]
     },
     "execution_count": 9,
     "metadata": {},
     "output_type": "execute_result"
    }
   ],
   "source": [
    "answer\n"
   ]
  },
  {
   "cell_type": "code",
   "execution_count": 13,
   "metadata": {},
   "outputs": [
    {
     "name": "stdout",
     "output_type": "stream",
     "text": [
      "Processing PowerPoint file...\n",
      "Extracting paragraphs...\n",
      "Computing embeddings...\n",
      "Answering query...\n",
      "model_lang en\n",
      "Selected 15 document sections:\n",
      "10\n",
      "9\n",
      "0\n",
      "22\n",
      "16\n",
      "21\n",
      "15\n",
      "8\n",
      "1\n",
      "17\n",
      "11\n",
      "7\n",
      "3\n",
      "14\n",
      "23\n",
      "Answer the question as truthfully as possible using the provided context, and if the answer is not contained within the text below, say \"I don't know.\"\n",
      "\n",
      "Context:\n",
      "\n",
      "* DashboardLayout This is the main content of the layout file, the root component above  box is how we frame all of our components that’ll come in dashboard navbar is where we place our navbar sidebar is also like navbar These components navbar and sidebar are mostly complete on their own, they run logic, they store data etc.\n",
      "* components dashboard file contains all kinds of widgets, some of them aren’t actively displayed on the frontend too. data-popup, settings, setup and ssh-popup are files contains files that are not actively being changed at the moment utils is where we keep all kinds of utilities for everything imaginable, this part is going to be expanded a little bit later on. Visually the most important part here is the the layout logic we see, dashboard-layout is dependent on navbar and sidebar and is displayed in every page. \n",
      "* Dashboard Codebase Introduction \n",
      "* components/setup folder Both setups list and single setups are derived from this page. single-setup-lister is a file that exports single setup rendering “template” ( component ) As is shown on the left is using another helper component called CustomerLister, this is a utility component we wrote and every other component here is following a similar structure. Other files are the ones used in static setups route\n",
      "* setups.js setups.js is basically hosting 2 main parts; toolbar for search and filtering etc. setups list for listing setups this actually is possible because of the modular structure of react mentioned earlier, all of this smaller components are stored under the components folder. As you can see here we pass many properties to inner components, this way we are able to pass information and even functions so inner components can also use them. In case of not having our components stacked inside this closely, we use contextapi to read and manipulate general app state from anywhere.\n",
      "* Components\n",
      "* index.js Our entry file, whenever we open the app and go to the root path we see this page summarizing some states about the application. It’s only connecting to the “setup_overview” topic, and it’s updated every 5 seconds Is both accessing the global state over the context api (useContext) and maintains a local state using useState. Rarely changed lately, but making changes and updates here are often not problematic.\n",
      "* src file mocks file isn’t used as much anymore, keeps mock status data to first reload before datacomes, and placeholding when it doesn’t come. components is where we have nearly all of the supporting components of the actual pages we are building. icons is where we have the js versions of svg images pages is where we keep all of our pages and and makes our routing out of the box theme is like a setting file keeps a files about the overall theme utils is a file that keeps some basic utilities as well as general purpose stuff\n",
      "* General Overview It’s written in Javascript This type of applications are technically called as SPA(single page applications) Fundamentally uses React  Uses Next.js on top of React as the framework (basically every other approach when building React apps depends on a framework, even the original repo promotes their own command for setting React apps called create-react-app which acts like a ‘framework’) Next became the go to React framework in the past years. For package manager we use yarn \n",
      "* [setup].js Is our first dynamic route, I won’t explain here all the others in detail too, because fundamentally they are extremely similar to one another http://10.99.0.36/setup/airbloc_coinone-vg an example way of accesing one of the dynamic routes, we are able to see this route because the following happens when we go to setups page first; we see a bunch of setups with clickable links on them and we see our sidebar all the time ready to use as soon as we access our setups page, whenever a link is clicked ourapp takes us to a page like /setup/[setupname], when we arrive that page we have enough information to open our websockets then. In each of our dynamic routes we access 4 websockets, setup_overview for getting general setup information, setup_dyn_items is for our dynamic items setting widget, command_list for getting the commands to be able to use it shell and finally setup_sanity to access sanity information of our setups.\n",
      "* pages A file to approach with most caution, but easy to understand and handle _app and _document are not subjects of changes, we’ll use them as they are all the time. Every other file we see here is ready to use as a page and can be navigated, files inside [] are the dynamic routes while the others are static routes, their content is not static, only the file name. \n",
      "* Folder Structure During the development we use 3 of the files/folders here heavily. package.json for managing dependencies public for placing stuff like visuals and of course src file to keep all the code we have.\n",
      "* Next.js Server-side rendering: Next.js can render React components on the server, which provides better performance and SEO benefits compared to client-side rendering. Automatic code splitting: Next.js automatically splits your code into small chunks that are loaded on demand, improving page load times and reducing the amount of JavaScript that needs to be downloaded by the client. Static site generation: Next.js can generate static HTML files for your application, which can be served directly from a CDN for even faster performance. API routes: Next.js makes it easy to create API endpoints that can be called directly from the client or server. Built-in CSS support: Next.js supports CSS modules out of the box, making it easy to write modular and reusable CSS for your application. Routing: Next.js provides a file-based routing system that maps URLs to pages in your application. You can define routes by creating files with specific names (e.g. pages/about.js) and Next.js will automatically generate the necessary routing code for you.\n",
      "* General App State Use Context is where we consume data from a React context in a functional component. Below right is the content of _app.js file which makes this general app state ( context ) available for the whole app\n",
      "* components/datapopup-sshpopup data-popup and ssh-popup are not actively used at the moment, it allows you to create popup windows that one can fill with content and interact if wanted to.\n",
      "\n",
      " Q: What is dashboard layout?\n",
      " A:\n",
      "Done!\n"
     ]
    }
   ],
   "source": [
    "# ppt_extractor = PowerpointExtractor(db, max_tokens=1500, embedding_extractor=\"hf\", model_lang=\"en\", to_save=True)\n",
    "answer, prompt, messages = ppt_extractor.extract(ppt_file_path, query)"
   ]
  },
  {
   "cell_type": "code",
   "execution_count": 14,
   "metadata": {},
   "outputs": [
    {
     "data": {
      "text/plain": [
       "'DashboardLayout is the main content of the layout file, the root component above box is how we frame all of our components that’ll come in dashboard navbar and sidebar. It is dependent on navbar and sidebar and is displayed in every page.'"
      ]
     },
     "execution_count": 14,
     "metadata": {},
     "output_type": "execute_result"
    }
   ],
   "source": [
    "answer\n"
   ]
  },
  {
   "cell_type": "code",
   "execution_count": null,
   "metadata": {},
   "outputs": [],
   "source": []
  }
 ],
 "metadata": {
  "kernelspec": {
   "display_name": "knowledgegpt-env",
   "language": "python",
   "name": "python3"
  },
  "language_info": {
   "codemirror_mode": {
    "name": "ipython",
    "version": 3
   },
   "file_extension": ".py",
   "mimetype": "text/x-python",
   "name": "python",
   "nbconvert_exporter": "python",
   "pygments_lexer": "ipython3",
   "version": "3.9.16"
  },
  "orig_nbformat": 4
 },
 "nbformat": 4,
 "nbformat_minor": 2
}
