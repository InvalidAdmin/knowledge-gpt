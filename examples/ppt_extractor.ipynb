{
 "cells": [
  {
   "cell_type": "code",
   "execution_count": 1,
   "metadata": {},
   "outputs": [],
   "source": [
    "import openai\n",
    "from example_config import SECRET_KEY \n",
    "openai.api_key = SECRET_KEY"
   ]
  },
  {
   "cell_type": "code",
   "execution_count": 2,
   "metadata": {},
   "outputs": [],
   "source": [
    "from knowledgegpt_base.extractors.powerpoint_extractor import PowerpointExtractor"
   ]
  },
  {
   "cell_type": "code",
   "execution_count": 3,
   "metadata": {},
   "outputs": [],
   "source": [
    "import openai\n",
    "from example_config import SECRET_KEY, MONGO_URI\n",
    "openai.api_key = SECRET_KEY"
   ]
  },
  {
   "cell_type": "code",
   "execution_count": 4,
   "metadata": {},
   "outputs": [],
   "source": [
    "from pymongo import MongoClient\n",
    "\n",
    "client  = MongoClient(MONGO_URI)\n",
    "db = client.openai_test"
   ]
  },
  {
   "cell_type": "code",
   "execution_count": 5,
   "metadata": {},
   "outputs": [],
   "source": [
    "query = \"What is dashboard layout?\"\n",
    "ppt_file_path = \"../example_slide.pptx\""
   ]
  },
  {
   "cell_type": "code",
   "execution_count": 11,
   "metadata": {},
   "outputs": [
    {
     "name": "stdout",
     "output_type": "stream",
     "text": [
      "Processing PowerPoint file...\n",
      "Extracting paragraphs...\n",
      "Computing embeddings...\n",
      "Answering query...\n",
      "model_lang en\n",
      "Selected 6 document sections:\n",
      "10\n",
      "9\n",
      "0\n",
      "22\n",
      "16\n",
      "21\n",
      "Answer the question as truthfully as possible using the provided context, and if the answer is not contained within the text below, say \"I don't know.\"\n",
      "\n",
      "Context:\n",
      "\n",
      "* DashboardLayout This is the main content of the layout file, the root component above  box is how we frame all of our components that’ll come in dashboard navbar is where we place our navbar sidebar is also like navbar These components navbar and sidebar are mostly complete on their own, they run logic, they store data etc.\n",
      "* components dashboard file contains all kinds of widgets, some of them aren’t actively displayed on the frontend too. data-popup, settings, setup and ssh-popup are files contains files that are not actively being changed at the moment utils is where we keep all kinds of utilities for everything imaginable, this part is going to be expanded a little bit later on. Visually the most important part here is the the layout logic we see, dashboard-layout is dependent on navbar and sidebar and is displayed in every page. \n",
      "* Dashboard Codebase Introduction \n",
      "* components/setup folder Both setups list and single setups are derived from this page. single-setup-lister is a file that exports single setup rendering “template” ( component ) As is shown on the left is using another helper component called CustomerLister, this is a utility component we wrote and every other component here is following a similar structure. Other files are the ones used in static setups route\n",
      "* setups.js setups.js is basically hosting 2 main parts; toolbar for search and filtering etc. setups list for listing setups this actually is possible because of the modular structure of react mentioned earlier, all of this smaller components are stored under the components folder. As you can see here we pass many properties to inner components, this way we are able to pass information and even functions so inner components can also use them. In case of not having our components stacked inside this closely, we use contextapi to read and manipulate general app state from anywhere.\n",
      "* Components\n",
      "\n",
      " Q: What is dashboard layout?\n",
      " A:\n",
      "Saving to MongoDB...\n",
      "Done!\n"
     ]
    }
   ],
   "source": [
    "ppt_extractor = PowerpointExtractor(file_path=ppt_file_path, embedding_extractor=\"hf\", model_lang=\"en\", is_turbo=True)\n",
    "answer, prompt, messages = ppt_extractor.extract( query,max_tokens=500, to_save=True, mongo_client=db)"
   ]
  },
  {
   "cell_type": "code",
   "execution_count": 12,
   "metadata": {},
   "outputs": [
    {
     "data": {
      "text/plain": [
       "[{'role': 'system', 'content': 'you are a helpful assistant'},\n",
       " {'role': 'user',\n",
       "  'content': 'Answer the question as truthfully as possible using the provided context, and if the answer is not contained within the text below, say \"I don\\'t know.\"\\n\\nContext:\\n\\n* DashboardLayout This is the main content of the layout file, the root component above  box is how we frame all of our components that’ll come in dashboard navbar is where we place our navbar sidebar is also like navbar These components navbar and sidebar are mostly complete on their own, they run logic, they store data etc.\\n* components dashboard file contains all kinds of widgets, some of them aren’t actively displayed on the frontend too. data-popup, settings, setup and ssh-popup are files contains files that are not actively being changed at the moment utils is where we keep all kinds of utilities for everything imaginable, this part is going to be expanded a little bit later on. Visually the most important part here is the the layout logic we see, dashboard-layout is dependent on navbar and sidebar and is displayed in every page. \\n* Dashboard Codebase Introduction \\n* components/setup folder Both setups list and single setups are derived from this page. single-setup-lister is a file that exports single setup rendering “template” ( component ) As is shown on the left is using another helper component called CustomerLister, this is a utility component we wrote and every other component here is following a similar structure. Other files are the ones used in static setups route\\n* setups.js setups.js is basically hosting 2 main parts; toolbar for search and filtering etc. setups list for listing setups this actually is possible because of the modular structure of react mentioned earlier, all of this smaller components are stored under the components folder. As you can see here we pass many properties to inner components, this way we are able to pass information and even functions so inner components can also use them. In case of not having our components stacked inside this closely, we use contextapi to read and manipulate general app state from anywhere.\\n* Components\\n\\n Q: What is dashboard layout?\\n A:'},\n",
       " {'role': 'assistant',\n",
       "  'content': 'DashboardLayout is the main content of the layout file, the root component above the box, and it frames all of the components that come in the dashboard. It is dependent on navbar and sidebar and is displayed on every page.'}]"
      ]
     },
     "execution_count": 12,
     "metadata": {},
     "output_type": "execute_result"
    }
   ],
   "source": [
    "messages"
   ]
  },
  {
   "cell_type": "code",
   "execution_count": 13,
   "metadata": {},
   "outputs": [
    {
     "data": {
      "text/plain": [
       "'DashboardLayout is the main content of the layout file, the root component above the box, and it frames all of the components that come in the dashboard. It is dependent on navbar and sidebar and is displayed on every page.'"
      ]
     },
     "execution_count": 13,
     "metadata": {},
     "output_type": "execute_result"
    }
   ],
   "source": [
    "answer"
   ]
  },
  {
   "cell_type": "code",
   "execution_count": 14,
   "metadata": {},
   "outputs": [
    {
     "name": "stdout",
     "output_type": "stream",
     "text": [
      "Processing PowerPoint file...\n",
      "Extracting paragraphs...\n",
      "Computing embeddings...\n",
      "Answering query...\n",
      "not the first time\n",
      "What is dashboard layout?\n",
      "Done!\n"
     ]
    }
   ],
   "source": [
    "answer, prompt, messages = ppt_extractor.extract( query,max_tokens=500, to_save=False)"
   ]
  },
  {
   "cell_type": "code",
   "execution_count": 15,
   "metadata": {},
   "outputs": [
    {
     "data": {
      "text/plain": [
       "'DashboardLayout is the main content of the layout file, the root component above the box, and it frames all of the components that come in the dashboard. It is dependent on navbar and sidebar and is displayed on every page.'"
      ]
     },
     "execution_count": 15,
     "metadata": {},
     "output_type": "execute_result"
    }
   ],
   "source": [
    "answer"
   ]
  },
  {
   "cell_type": "code",
   "execution_count": 16,
   "metadata": {},
   "outputs": [
    {
     "data": {
      "text/plain": [
       "[{'role': 'system', 'content': 'you are a helpful assistant'},\n",
       " {'role': 'user',\n",
       "  'content': 'Answer the question as truthfully as possible using the provided context, and if the answer is not contained within the text below, say \"I don\\'t know.\"\\n\\nContext:\\n\\n* DashboardLayout This is the main content of the layout file, the root component above  box is how we frame all of our components that’ll come in dashboard navbar is where we place our navbar sidebar is also like navbar These components navbar and sidebar are mostly complete on their own, they run logic, they store data etc.\\n* components dashboard file contains all kinds of widgets, some of them aren’t actively displayed on the frontend too. data-popup, settings, setup and ssh-popup are files contains files that are not actively being changed at the moment utils is where we keep all kinds of utilities for everything imaginable, this part is going to be expanded a little bit later on. Visually the most important part here is the the layout logic we see, dashboard-layout is dependent on navbar and sidebar and is displayed in every page. \\n* Dashboard Codebase Introduction \\n* components/setup folder Both setups list and single setups are derived from this page. single-setup-lister is a file that exports single setup rendering “template” ( component ) As is shown on the left is using another helper component called CustomerLister, this is a utility component we wrote and every other component here is following a similar structure. Other files are the ones used in static setups route\\n* setups.js setups.js is basically hosting 2 main parts; toolbar for search and filtering etc. setups list for listing setups this actually is possible because of the modular structure of react mentioned earlier, all of this smaller components are stored under the components folder. As you can see here we pass many properties to inner components, this way we are able to pass information and even functions so inner components can also use them. In case of not having our components stacked inside this closely, we use contextapi to read and manipulate general app state from anywhere.\\n* Components\\n\\n Q: What is dashboard layout?\\n A:'},\n",
       " {'role': 'assistant',\n",
       "  'content': 'DashboardLayout is the main content of the layout file, the root component above the box, and it frames all of the components that come in the dashboard. It is dependent on navbar and sidebar and is displayed on every page.'},\n",
       " {'role': 'user', 'content': 'What is dashboard layout?'},\n",
       " {'role': 'assistant',\n",
       "  'content': 'DashboardLayout is the main content of the layout file, the root component above the box, and it frames all of the components that come in the dashboard. It is dependent on navbar and sidebar and is displayed on every page.'}]"
      ]
     },
     "execution_count": 16,
     "metadata": {},
     "output_type": "execute_result"
    }
   ],
   "source": [
    "messages"
   ]
  }
 ],
 "metadata": {
  "kernelspec": {
   "display_name": "knowledgegpt_base-env",
   "language": "python",
   "name": "python3"
  },
  "language_info": {
   "codemirror_mode": {
    "name": "ipython",
    "version": 3
   },
   "file_extension": ".py",
   "mimetype": "text/x-python",
   "name": "python",
   "nbconvert_exporter": "python",
   "pygments_lexer": "ipython3",
   "version": "3.9.16"
  },
  "orig_nbformat": 4
 },
 "nbformat": 4,
 "nbformat_minor": 2
}
