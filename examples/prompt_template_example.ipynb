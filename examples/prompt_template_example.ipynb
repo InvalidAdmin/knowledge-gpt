{
 "cells": [
  {
   "cell_type": "code",
   "execution_count": 3,
   "metadata": {
    "collapsed": false
   },
   "outputs": [],
   "source": [
    "# !python3 -m spacy download en_core_web_sm"
   ]
  },
  {
   "cell_type": "code",
   "execution_count": 1,
   "metadata": {
    "collapsed": false
   },
   "outputs": [],
   "source": [
    "from knowledgegpt.extractors.base_extractor import BaseExtractor\n",
    "from knowledgegpt.utils.utils_scrape import scrape_content"
   ]
  },
  {
   "cell_type": "code",
   "execution_count": 2,
   "metadata": {},
   "outputs": [],
   "source": [
    "import openai\n",
    "from example_config import SECRET_KEY\n",
    "openai.api_key = SECRET_KEY"
   ]
  },
  {
   "cell_type": "code",
   "execution_count": 3,
   "metadata": {},
   "outputs": [],
   "source": [
    "# # Scrape content from a webpage\n",
    "# any other dataframes can be used as well, the only requirement is that the column name is \"content\"\n",
    "df = scrape_content(\"https://en.wikipedia.org/wiki/Bombard_(weapon)\")"
   ]
  },
  {
   "cell_type": "code",
   "execution_count": 4,
   "metadata": {
    "collapsed": false
   },
   "outputs": [
    {
     "data": {
      "text/html": [
       "<div>\n",
       "<style scoped>\n",
       "    .dataframe tbody tr th:only-of-type {\n",
       "        vertical-align: middle;\n",
       "    }\n",
       "\n",
       "    .dataframe tbody tr th {\n",
       "        vertical-align: top;\n",
       "    }\n",
       "\n",
       "    .dataframe thead th {\n",
       "        text-align: right;\n",
       "    }\n",
       "</style>\n",
       "<table border=\"1\" class=\"dataframe\">\n",
       "  <thead>\n",
       "    <tr style=\"text-align: right;\">\n",
       "      <th></th>\n",
       "      <th>content</th>\n",
       "    </tr>\n",
       "  </thead>\n",
       "  <tbody>\n",
       "    <tr>\n",
       "      <th>0</th>\n",
       "      <td>Bombard (weapon) - Wikipedia</td>\n",
       "    </tr>\n",
       "    <tr>\n",
       "      <th>1</th>\n",
       "      <td>Open main menu</td>\n",
       "    </tr>\n",
       "    <tr>\n",
       "      <th>2</th>\n",
       "      <td>Home</td>\n",
       "    </tr>\n",
       "    <tr>\n",
       "      <th>3</th>\n",
       "      <td>Random</td>\n",
       "    </tr>\n",
       "    <tr>\n",
       "      <th>4</th>\n",
       "      <td>Nearby</td>\n",
       "    </tr>\n",
       "    <tr>\n",
       "      <th>5</th>\n",
       "      <td>Log in</td>\n",
       "    </tr>\n",
       "    <tr>\n",
       "      <th>6</th>\n",
       "      <td>Settings</td>\n",
       "    </tr>\n",
       "    <tr>\n",
       "      <th>7</th>\n",
       "      <td>Donate</td>\n",
       "    </tr>\n",
       "    <tr>\n",
       "      <th>8</th>\n",
       "      <td>About Wikipedia</td>\n",
       "    </tr>\n",
       "    <tr>\n",
       "      <th>9</th>\n",
       "      <td>Disclaimers</td>\n",
       "    </tr>\n",
       "    <tr>\n",
       "      <th>10</th>\n",
       "      <td>Search</td>\n",
       "    </tr>\n",
       "    <tr>\n",
       "      <th>11</th>\n",
       "      <td>Bombard (weapon)</td>\n",
       "    </tr>\n",
       "    <tr>\n",
       "      <th>12</th>\n",
       "      <td>Article\\nTalk</td>\n",
       "    </tr>\n",
       "    <tr>\n",
       "      <th>13</th>\n",
       "      <td>Language</td>\n",
       "    </tr>\n",
       "    <tr>\n",
       "      <th>14</th>\n",
       "      <td>Watch</td>\n",
       "    </tr>\n",
       "    <tr>\n",
       "      <th>15</th>\n",
       "      <td>Edit</td>\n",
       "    </tr>\n",
       "    <tr>\n",
       "      <th>16</th>\n",
       "      <td>The bombard is a type of cannon or mortar whic...</td>\n",
       "    </tr>\n",
       "    <tr>\n",
       "      <th>17</th>\n",
       "      <td>Contents\\n1 Terminology\\n2 History\\n3 Notable ...</td>\n",
       "    </tr>\n",
       "    <tr>\n",
       "      <th>18</th>\n",
       "      <td>TerminologyEdit\\nThe term \"bombard\" was first ...</td>\n",
       "    </tr>\n",
       "    <tr>\n",
       "      <th>19</th>\n",
       "      <td>GalleryEdit</td>\n",
       "    </tr>\n",
       "    <tr>\n",
       "      <th>20</th>\n",
       "      <td>\"Hand bombard\", 1390–1400</td>\n",
       "    </tr>\n",
       "    <tr>\n",
       "      <th>21</th>\n",
       "      <td>200 kg wrought iron bombard, circa 1450, Metz,...</td>\n",
       "    </tr>\n",
       "    <tr>\n",
       "      <th>22</th>\n",
       "      <td>The Dardanelles Gun.</td>\n",
       "    </tr>\n",
       "    <tr>\n",
       "      <th>23</th>\n",
       "      <td>Mons Meg at Edinburgh Castle, mid-15th century</td>\n",
       "    </tr>\n",
       "    <tr>\n",
       "      <th>24</th>\n",
       "      <td>Mons Meg cannonballs</td>\n",
       "    </tr>\n",
       "    <tr>\n",
       "      <th>25</th>\n",
       "      <td>English Bombards abandoned during the Hundred ...</td>\n",
       "    </tr>\n",
       "    <tr>\n",
       "      <th>26</th>\n",
       "      <td>Bombard from the beginning of the 15th century...</td>\n",
       "    </tr>\n",
       "    <tr>\n",
       "      <th>27</th>\n",
       "      <td>Early Ming bombard with two pair of trunnions,...</td>\n",
       "    </tr>\n",
       "    <tr>\n",
       "      <th>28</th>\n",
       "      <td>Acehnese guns including two bombards (closer t...</td>\n",
       "    </tr>\n",
       "    <tr>\n",
       "      <th>29</th>\n",
       "      <td>15th century bombard mounted on carriage, Warsaw.</td>\n",
       "    </tr>\n",
       "    <tr>\n",
       "      <th>30</th>\n",
       "      <td>Bombard in its siege position, Denmark.</td>\n",
       "    </tr>\n",
       "    <tr>\n",
       "      <th>31</th>\n",
       "      <td>A bombard recovered from the well of Cardiff c...</td>\n",
       "    </tr>\n",
       "    <tr>\n",
       "      <th>32</th>\n",
       "      <td>Wikimedia Commons has media related to Bombard...</td>\n",
       "    </tr>\n",
       "    <tr>\n",
       "      <th>33</th>\n",
       "      <td>See alsoEdit\\nList of the largest cannons by c...</td>\n",
       "    </tr>\n",
       "    <tr>\n",
       "      <th>34</th>\n",
       "      <td>^ a b c Sands, Kathleen (1999). \"Though One Of...</td>\n",
       "    </tr>\n",
       "    <tr>\n",
       "      <th>35</th>\n",
       "      <td>^ Andrade 2016, p. 83.</td>\n",
       "    </tr>\n",
       "    <tr>\n",
       "      <th>36</th>\n",
       "      <td>^ DeVries 2012, p. 155.</td>\n",
       "    </tr>\n",
       "    <tr>\n",
       "      <th>37</th>\n",
       "      <td>^ Gwei-Djen, Lu; Needham, Joseph; Chi-Hsing, P...</td>\n",
       "    </tr>\n",
       "    <tr>\n",
       "      <th>38</th>\n",
       "      <td>^ Aung-Thwin, Michael; Hall, Kenneth (2011). \"...</td>\n",
       "    </tr>\n",
       "    <tr>\n",
       "      <th>39</th>\n",
       "      <td>^ File:Westgate 076.jpg</td>\n",
       "    </tr>\n",
       "    <tr>\n",
       "      <th>40</th>\n",
       "      <td>^ \"Reconstruction of Norham Castle Seige by Sc...</td>\n",
       "    </tr>\n",
       "    <tr>\n",
       "      <th>41</th>\n",
       "      <td>^ W. H. Finlayson. The Scottish Historical Rev...</td>\n",
       "    </tr>\n",
       "    <tr>\n",
       "      <th>42</th>\n",
       "      <td>^ \"Bodiam Bombard | Kent and Sussex Courier\". ...</td>\n",
       "    </tr>\n",
       "    <tr>\n",
       "      <th>43</th>\n",
       "      <td>^ Schmidtchen (1977b), pp. 226–228</td>\n",
       "    </tr>\n",
       "    <tr>\n",
       "      <th>44</th>\n",
       "      <td>ReferencesEdit\\n  This article incorporates te...</td>\n",
       "    </tr>\n",
       "    <tr>\n",
       "      <th>45</th>\n",
       "      <td>Retrieved from \"https://en.wikipedia.org/w/ind...</td>\n",
       "    </tr>\n",
       "    <tr>\n",
       "      <th>46</th>\n",
       "      <td>Last edited on 25 February 2023, at 21:41</td>\n",
       "    </tr>\n",
       "    <tr>\n",
       "      <th>47</th>\n",
       "      <td>Languages</td>\n",
       "    </tr>\n",
       "    <tr>\n",
       "      <th>48</th>\n",
       "      <td>БеларускаяБеларуская (тарашкевіца)БългарскиCat...</td>\n",
       "    </tr>\n",
       "    <tr>\n",
       "      <th>49</th>\n",
       "      <td>This page was last edited on 25 February 2023,...</td>\n",
       "    </tr>\n",
       "    <tr>\n",
       "      <th>50</th>\n",
       "      <td>Privacy policy\\nAbout Wikipedia\\nDisclaimers\\n...</td>\n",
       "    </tr>\n",
       "  </tbody>\n",
       "</table>\n",
       "</div>"
      ],
      "text/plain": [
       "                                              content\n",
       "0                        Bombard (weapon) - Wikipedia\n",
       "1                                      Open main menu\n",
       "2                                                Home\n",
       "3                                              Random\n",
       "4                                              Nearby\n",
       "5                                              Log in\n",
       "6                                            Settings\n",
       "7                                              Donate\n",
       "8                                     About Wikipedia\n",
       "9                                         Disclaimers\n",
       "10                                             Search\n",
       "11                                   Bombard (weapon)\n",
       "12                                      Article\\nTalk\n",
       "13                                           Language\n",
       "14                                              Watch\n",
       "15                                               Edit\n",
       "16  The bombard is a type of cannon or mortar whic...\n",
       "17  Contents\\n1 Terminology\\n2 History\\n3 Notable ...\n",
       "18  TerminologyEdit\\nThe term \"bombard\" was first ...\n",
       "19                                        GalleryEdit\n",
       "20                          \"Hand bombard\", 1390–1400\n",
       "21  200 kg wrought iron bombard, circa 1450, Metz,...\n",
       "22                               The Dardanelles Gun.\n",
       "23     Mons Meg at Edinburgh Castle, mid-15th century\n",
       "24                               Mons Meg cannonballs\n",
       "25  English Bombards abandoned during the Hundred ...\n",
       "26  Bombard from the beginning of the 15th century...\n",
       "27  Early Ming bombard with two pair of trunnions,...\n",
       "28  Acehnese guns including two bombards (closer t...\n",
       "29  15th century bombard mounted on carriage, Warsaw.\n",
       "30            Bombard in its siege position, Denmark.\n",
       "31  A bombard recovered from the well of Cardiff c...\n",
       "32  Wikimedia Commons has media related to Bombard...\n",
       "33  See alsoEdit\\nList of the largest cannons by c...\n",
       "34  ^ a b c Sands, Kathleen (1999). \"Though One Of...\n",
       "35                             ^ Andrade 2016, p. 83.\n",
       "36                            ^ DeVries 2012, p. 155.\n",
       "37  ^ Gwei-Djen, Lu; Needham, Joseph; Chi-Hsing, P...\n",
       "38  ^ Aung-Thwin, Michael; Hall, Kenneth (2011). \"...\n",
       "39                            ^ File:Westgate 076.jpg\n",
       "40  ^ \"Reconstruction of Norham Castle Seige by Sc...\n",
       "41  ^ W. H. Finlayson. The Scottish Historical Rev...\n",
       "42  ^ \"Bodiam Bombard | Kent and Sussex Courier\". ...\n",
       "43                 ^ Schmidtchen (1977b), pp. 226–228\n",
       "44  ReferencesEdit\\n  This article incorporates te...\n",
       "45  Retrieved from \"https://en.wikipedia.org/w/ind...\n",
       "46          Last edited on 25 February 2023, at 21:41\n",
       "47                                          Languages\n",
       "48  БеларускаяБеларуская (тарашкевіца)БългарскиCat...\n",
       "49  This page was last edited on 25 February 2023,...\n",
       "50  Privacy policy\\nAbout Wikipedia\\nDisclaimers\\n..."
      ]
     },
     "execution_count": 4,
     "metadata": {},
     "output_type": "execute_result"
    }
   ],
   "source": [
    "df"
   ]
  },
  {
   "cell_type": "code",
   "execution_count": 8,
   "metadata": {},
   "outputs": [],
   "source": [
    "template = '''\n",
    "Test prompt template\n",
    "Answer the question as truthfully as possible using the provided context, and if the answer is not contained within the text below, say \"I don't know.\" \n",
    "\n",
    "Context: \n",
    "{sections}\n",
    "\n",
    "Question: {question}\n",
    "Answer:\n",
    "'''"
   ]
  },
  {
   "cell_type": "code",
   "execution_count": 9,
   "metadata": {},
   "outputs": [
    {
     "name": "stdout",
     "output_type": "stream",
     "text": [
      "Computing embeddings...\n",
      "model_lang en\n",
      "Selected 13 document sections:\n",
      "49\n",
      "43\n",
      "36\n",
      "45\n",
      "35\n",
      "42\n",
      "22\n",
      "17\n",
      "38\n",
      "39\n",
      "12\n",
      "20\n",
      "8\n",
      "\n",
      "Test prompt template\n",
      "Answer the question as truthfully as possible using the provided context, and if the answer is not contained within the text below, say \"I don't know.\" \n",
      "\n",
      "Context: \n",
      "\n",
      "* This page was last edited on 25 February 2023, at 21:41 (UTC). Content is available under CC BY-SA 3.0 unless otherwise noted.\n",
      "* ^ Schmidtchen (1977b), pp. 226–228\n",
      "* ^ DeVries 2012, p. 155.\n",
      "* Retrieved from \"https://en.wikipedia.org/w/index.php?title=Bombard_(weapon)&oldid=1141599306\"\n",
      "* ^ Andrade 2016, p. 83.\n",
      "* ^ \"Bodiam Bombard | Kent and Sussex Courier\". Archived from the original on 2015-09-23. Retrieved 2015-04-13.\n",
      "* The Dardanelles Gun.\n",
      "* Contents 1 Terminology 2 History 3 Notable examples 4 Gallery 5 See also 6 Notes 7 References 8 Further reading\n",
      "* ^ Aung-Thwin, Michael; Hall, Kenneth (2011). \"New Perspectives on the History and Historiography of Southeast Asia\": 85. {{cite journal}}: Cite journal requires |journal= (help)\n",
      "* ^ File:Westgate 076.jpg\n",
      "* Article Talk\n",
      "* \"Hand bombard\", 1390–1400\n",
      "* About Wikipedia\n",
      "\n",
      "Question: What is the title of this PDF?\n",
      "Answer:\n",
      "\n",
      "all_done!\n"
     ]
    }
   ],
   "source": [
    "basic_extractor = BaseExtractor(dataframe=df, embedding_extractor=\"hf\", model_lang=\"en\", is_turbo=True, prompt_template=template)\n",
    "answer, prompt, messages = basic_extractor.extract(\"What is the title of this PDF?\", max_tokens=300)"
   ]
  },
  {
   "cell_type": "code",
   "execution_count": 10,
   "metadata": {},
   "outputs": [
    {
     "data": {
      "text/plain": [
       "\"I don't know.\""
      ]
     },
     "execution_count": 10,
     "metadata": {},
     "output_type": "execute_result"
    }
   ],
   "source": [
    "answer"
   ]
  },
  {
   "cell_type": "code",
   "execution_count": 11,
   "metadata": {},
   "outputs": [
    {
     "name": "stdout",
     "output_type": "stream",
     "text": [
      "What is Bombard?\n",
      "all_done!\n"
     ]
    }
   ],
   "source": [
    "answer, prompt, messages = basic_extractor.extract(\"What is Bombard?\", max_tokens=300)"
   ]
  },
  {
   "cell_type": "code",
   "execution_count": 12,
   "metadata": {},
   "outputs": [
    {
     "data": {
      "text/plain": [
       "'Bombard is a weapon.'"
      ]
     },
     "execution_count": 12,
     "metadata": {},
     "output_type": "execute_result"
    }
   ],
   "source": [
    "answer"
   ]
  },
  {
   "cell_type": "code",
   "execution_count": 13,
   "metadata": {},
   "outputs": [
    {
     "data": {
      "text/plain": [
       "[{'role': 'system', 'content': 'you are a helpful assistant'},\n",
       " {'role': 'user',\n",
       "  'content': '\\nTest prompt template\\nAnswer the question as truthfully as possible using the provided context, and if the answer is not contained within the text below, say \"I don\\'t know.\" \\n\\nContext: \\n\\n* This page was last edited on 25 February 2023, at 21:41\\xa0(UTC). Content is available under CC BY-SA 3.0 unless otherwise noted.\\n* ^ Schmidtchen (1977b), pp. 226–228\\n* ^ DeVries 2012, p.\\xa0155.\\n* Retrieved from \"https://en.wikipedia.org/w/index.php?title=Bombard_(weapon)&oldid=1141599306\"\\n* ^ Andrade 2016, p.\\xa083.\\n* ^ \"Bodiam Bombard | Kent and Sussex Courier\". Archived from the original on 2015-09-23. Retrieved 2015-04-13.\\n* The Dardanelles Gun.\\n* Contents 1 Terminology 2 History 3 Notable examples 4 Gallery 5 See also 6 Notes 7 References 8 Further reading\\n* ^ Aung-Thwin, Michael; Hall, Kenneth (2011). \"New Perspectives on the History and Historiography of Southeast Asia\": 85. {{cite journal}}: Cite journal requires |journal= (help)\\n* ^ File:Westgate 076.jpg\\n* Article Talk\\n* \"Hand bombard\", 1390–1400\\n* About Wikipedia\\n\\nQuestion: What is the title of this PDF?\\nAnswer:\\n'},\n",
       " {'role': 'assistant', 'content': \"I don't know.\"},\n",
       " {'role': 'user', 'content': 'What is Bombard?'},\n",
       " {'role': 'assistant', 'content': 'Bombard is a weapon.'}]"
      ]
     },
     "execution_count": 13,
     "metadata": {},
     "output_type": "execute_result"
    }
   ],
   "source": [
    "messages"
   ]
  },
  {
   "cell_type": "code",
   "execution_count": 14,
   "metadata": {},
   "outputs": [
    {
     "name": "stdout",
     "output_type": "stream",
     "text": [
      "Give me more details\n",
      "all_done!\n"
     ]
    }
   ],
   "source": [
    "answer, prompt, messages = basic_extractor.extract(\"Give me more details\", max_tokens=300)"
   ]
  },
  {
   "cell_type": "code",
   "execution_count": 15,
   "metadata": {},
   "outputs": [
    {
     "data": {
      "text/plain": [
       "'A bombard is a large caliber, muzzle-loading artillery piece primarily used during the early modern period of Europe. This weapon was used to hurl heavy stone balls onto enemy fortifications. The bombard was first developed in the early 14th century and was used until the 17th century. It was a predecessor to the modern cannon.'"
      ]
     },
     "execution_count": 15,
     "metadata": {},
     "output_type": "execute_result"
    }
   ],
   "source": [
    "answer"
   ]
  }
 ],
 "metadata": {
  "kernelspec": {
   "display_name": "knowledgegpt-env",
   "language": "python",
   "name": "python3"
  },
  "language_info": {
   "codemirror_mode": {
    "name": "ipython",
    "version": 3
   },
   "file_extension": ".py",
   "mimetype": "text/x-python",
   "name": "python",
   "nbconvert_exporter": "python",
   "pygments_lexer": "ipython3",
   "version": "3.9.16"
  },
  "orig_nbformat": 4
 },
 "nbformat": 4,
 "nbformat_minor": 2
}
