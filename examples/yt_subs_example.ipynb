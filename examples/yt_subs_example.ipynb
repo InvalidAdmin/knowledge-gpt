{
 "cells": [
  {
   "cell_type": "code",
   "execution_count": 1,
   "metadata": {},
   "outputs": [],
   "source": [
    "import openai\n",
    "from config import SECRET_KEY\n",
    "openai.api_key = SECRET_KEY"
   ]
  },
  {
   "cell_type": "code",
   "execution_count": 2,
   "metadata": {},
   "outputs": [],
   "source": [
    "from knowledgegpt.extractors.yt_subs_extractor import YTSubsExtractor"
   ]
  },
  {
   "cell_type": "code",
   "execution_count": 3,
   "metadata": {},
   "outputs": [],
   "source": [
    "url = \"https://www.youtube.com/watch?v=ayzOzZGHZy4\"\n",
    "query = \"What is data centric AI?\""
   ]
  },
  {
   "cell_type": "code",
   "execution_count": 4,
   "metadata": {},
   "outputs": [],
   "source": [
    "from config import MONGO_URI\n",
    "from pymongo import MongoClient\n",
    "\n",
    "client  = MongoClient(MONGO_URI)\n",
    "db = client.openai_test"
   ]
  },
  {
   "cell_type": "code",
   "execution_count": 5,
   "metadata": {},
   "outputs": [],
   "source": [
    "scrape_yt_subs = YTSubsExtractor(video_id=url, embedding_extractor='hf', model_lang='en')"
   ]
  },
  {
   "cell_type": "code",
   "execution_count": 6,
   "metadata": {},
   "outputs": [
    {
     "name": "stdout",
     "output_type": "stream",
     "text": [
      "Extracting text...\n",
      "[youtube] Extracting URL: https://www.youtube.com/watch?v=ayzOzZGHZy4\n",
      "[youtube] ayzOzZGHZy4: Downloading webpage\n",
      "[youtube] ayzOzZGHZy4: Downloading android player API JSON\n",
      "[info] ayzOzZGHZy4: Downloading subtitles: en\n",
      "[youtube] Extracting URL: https://www.youtube.com/watch?v=ayzOzZGHZy4\n",
      "[youtube] ayzOzZGHZy4: Downloading webpage\n",
      "[youtube] ayzOzZGHZy4: Downloading android player API JSON\n",
      "[info] ayzOzZGHZy4: Downloading subtitles: en\n",
      "[info] ayzOzZGHZy4: Downloading 1 format(s): 248+251\n",
      "Deleting existing file ayzOzZGHZy4.en.vtt\n",
      "[info] Writing video subtitles to: ayzOzZGHZy4.en.vtt\n",
      "[download] Destination: ayzOzZGHZy4.en.vtt\n",
      "[download] 100% of   66.31KiB in 00:00:00 at 252.51KiB/s\n",
      "Computing embeddings...\n",
      "Answering query...\n",
      "model_lang en\n",
      "Selected 2 document sections:\n",
      "9\n",
      "21\n",
      "Answer the question as truthfully as possible using the provided context, and if the answer is not contained within the text below, say \"I don't know.\"\n",
      "\n",
      "Context:\n",
      "\n",
      "* 940 But can someone tell me like what the difference  is between KNN and a data-centric AI algorithm 00:14:18 540 --> 00:14:19 031 Yeah 00:14:19 031 --> 00:14:19 128 STUDENT: Instead of trying to predict the class  you try to remove bad examples from the data set 00:14:19 128 --> 00:14:30 780 INSTRUCTOR: Yeah totally That's a great answer, 00:14:30 780 --> 00:14:36 060 yeah KNN is just doing classification and  it's not actually modifying the data set 00:14:37 020 --> 00:14:40 800 So yeah ,that's exactly right All right,  so what are a few other examples of like 00:14:40 800 --> 00:14:46 080 what is not data-centric AI Hand-picking  a bunch of points you think will improve a 00:14:46 080 --> 00:14:52 440 model So can anybody help me understand  why this is not data-centric AI Yeah 00:14:52 440 --> 00:14:53 756 STUDENT: It's not systematic 00:14:53 756 --> 00:14:58 260 INSTRUCTOR: Yeah totally it's just done by  hand like this could– if you had a hundred 00:14:58 260 --> 00:15:01 320 million a data set of 100 million  points this would take a long time 00:15:02 400 --> 00:15:15 900 um, what about doubling the size of your data set  so that you can train an improved model Yeah 00:15:15 900 --> 00:15:16 687 STUDENT: [inaudible] 00:15:16 687 --> 00:15:21 240 INSTRUCTOR: Yeah totally This is just classical  machine learning, like it's still all the model, 00:15:21 240 --> 00:15:24 360 all the work you do is in the model but  you're just paying more money for more data 00:15:25 080 --> 00:15:29 340 So let's juxtapose this, so what would  be the data-centric AI versions of this 00:15:30 240 --> 00:15:33 480 And just just out of curiosity, does anybody know, 00:15:33 480 --> 00:15:37\n",
      "* 820 and data-centric methods over the last five  years out of top institutions like Google and 00:33:05 820 --> 00:33:11 580 Facebook and so forth, and we benchmarked them,  and it turns out – and there's a lot on this 00:33:11 580 --> 00:33:16 440 slide but there's really one key takeaway – that  the data-centric AI methods all outperformed the 00:33:16 440 --> 00:33:21 660 model-centric methods for this particular task,  you know, on this particular data set And this 00:33:21 660 --> 00:33:26 700 was pretty revealing and compelling: that there's  something here to data-centric approaches And to 00:33:26 700 --> 00:33:31 560 be very clear, what these models are doing  is they are modifying the loss function or 00:33:31 560 --> 00:33:36 660 modifying the model so that they sort of don't  train as much on what they think is bad data, 00:33:36 660 --> 00:33:41 760 but within the context of the modeling And  what these methods are doing is they're actually 00:33:41 760 --> 00:33:46 440 modifying the data set– they're either removing  bad data or they're generating more data that 00:33:46 440 --> 00:33:51 180 sort of get makes the error go away, but somehow  they're actually changing the data set And this 00:33:51 180 --> 00:33:55 740 is just how things stack up and you'll see the  data-centric methods outperform model-centric 00:33:55 740 --> 00:34:00 720 methods in this task And this is a very common  task that's of interest to the field, so it's 00:34:00 720 --> 00:34:04 680 cool It's cool to see that this stuff is is  working and we're getting some benefits from it 00:34:05 640 --> 00:34:13 380 So a sort of culminating thought is, you know,  we were talking a lot about ways that we want to 00:34:13 380 --> 00:34:19 980 automate but what did we do before So obviously  we've had to improve data sets in industry, and 00:34:19 980 --> 00:34:24 480 like, outside of Academia in the past It's like  how did we do it before there was data-centric AI 00:34:25 800 --> 00:34:31 800 And so we mostly relied on human-powered  solutions For example we would just spend 00:34:31 800 --> 00:34:37\n",
      "\n",
      " Q: What is data centric AI?\n",
      " A:\n",
      "Saving to Mongo...\n",
      "Done!\n"
     ]
    }
   ],
   "source": [
    "answer, prompt, messages = scrape_yt_subs.extract( query=query, max_tokens=1200, to_save=True, mongo_client=db)"
   ]
  },
  {
   "cell_type": "code",
   "execution_count": 7,
   "metadata": {},
   "outputs": [
    {
     "data": {
      "text/plain": [
       "'Data-centric AI is a type of AI that focuses on modifying the data set, either by removing bad data or generating more data that can reduce the error rate. It is contrasted with model-centric AI, which focuses on modifying the model itself.'"
      ]
     },
     "execution_count": 7,
     "metadata": {},
     "output_type": "execute_result"
    }
   ],
   "source": [
    "answer"
   ]
  },
  {
   "cell_type": "code",
   "execution_count": 8,
   "metadata": {},
   "outputs": [
    {
     "name": "stdout",
     "output_type": "stream",
     "text": [
      "Extracting text...\n",
      "model_lang en\n",
      "Selected 2 document sections:\n",
      "9\n",
      "21\n",
      "Answer the question as truthfully as possible using the provided context, and if the answer is not contained within the text below, say \"I don't know.\"\n",
      "\n",
      "Context:\n",
      "\n",
      "* 940 But can someone tell me like what the difference  is between KNN and a data-centric AI algorithm 00:14:18 540 --> 00:14:19 031 Yeah 00:14:19 031 --> 00:14:19 128 STUDENT: Instead of trying to predict the class  you try to remove bad examples from the data set 00:14:19 128 --> 00:14:30 780 INSTRUCTOR: Yeah totally That's a great answer, 00:14:30 780 --> 00:14:36 060 yeah KNN is just doing classification and  it's not actually modifying the data set 00:14:37 020 --> 00:14:40 800 So yeah ,that's exactly right All right,  so what are a few other examples of like 00:14:40 800 --> 00:14:46 080 what is not data-centric AI Hand-picking  a bunch of points you think will improve a 00:14:46 080 --> 00:14:52 440 model So can anybody help me understand  why this is not data-centric AI Yeah 00:14:52 440 --> 00:14:53 756 STUDENT: It's not systematic 00:14:53 756 --> 00:14:58 260 INSTRUCTOR: Yeah totally it's just done by  hand like this could– if you had a hundred 00:14:58 260 --> 00:15:01 320 million a data set of 100 million  points this would take a long time 00:15:02 400 --> 00:15:15 900 um, what about doubling the size of your data set  so that you can train an improved model Yeah 00:15:15 900 --> 00:15:16 687 STUDENT: [inaudible] 00:15:16 687 --> 00:15:21 240 INSTRUCTOR: Yeah totally This is just classical  machine learning, like it's still all the model, 00:15:21 240 --> 00:15:24 360 all the work you do is in the model but  you're just paying more money for more data 00:15:25 080 --> 00:15:29 340 So let's juxtapose this, so what would  be the data-centric AI versions of this 00:15:30 240 --> 00:15:33 480 And just just out of curiosity, does anybody know, 00:15:33 480 --> 00:15:37\n",
      "* 820 and data-centric methods over the last five  years out of top institutions like Google and 00:33:05 820 --> 00:33:11 580 Facebook and so forth, and we benchmarked them,  and it turns out – and there's a lot on this 00:33:11 580 --> 00:33:16 440 slide but there's really one key takeaway – that  the data-centric AI methods all outperformed the 00:33:16 440 --> 00:33:21 660 model-centric methods for this particular task,  you know, on this particular data set And this 00:33:21 660 --> 00:33:26 700 was pretty revealing and compelling: that there's  something here to data-centric approaches And to 00:33:26 700 --> 00:33:31 560 be very clear, what these models are doing  is they are modifying the loss function or 00:33:31 560 --> 00:33:36 660 modifying the model so that they sort of don't  train as much on what they think is bad data, 00:33:36 660 --> 00:33:41 760 but within the context of the modeling And  what these methods are doing is they're actually 00:33:41 760 --> 00:33:46 440 modifying the data set– they're either removing  bad data or they're generating more data that 00:33:46 440 --> 00:33:51 180 sort of get makes the error go away, but somehow  they're actually changing the data set And this 00:33:51 180 --> 00:33:55 740 is just how things stack up and you'll see the  data-centric methods outperform model-centric 00:33:55 740 --> 00:34:00 720 methods in this task And this is a very common  task that's of interest to the field, so it's 00:34:00 720 --> 00:34:04 680 cool It's cool to see that this stuff is is  working and we're getting some benefits from it 00:34:05 640 --> 00:34:13 380 So a sort of culminating thought is, you know,  we were talking a lot about ways that we want to 00:34:13 380 --> 00:34:19 980 automate but what did we do before So obviously  we've had to improve data sets in industry, and 00:34:19 980 --> 00:34:24 480 like, outside of Academia in the past It's like  how did we do it before there was data-centric AI 00:34:25 800 --> 00:34:31 800 And so we mostly relied on human-powered  solutions For example we would just spend 00:34:31 800 --> 00:34:37\n",
      "\n",
      " Q: What is data centric AI?\n",
      " A:\n",
      "Done!\n"
     ]
    }
   ],
   "source": [
    "answer, prompt, messages = scrape_yt_subs.extract( query=query, max_tokens=1200, to_save=False)"
   ]
  },
  {
   "cell_type": "code",
   "execution_count": 9,
   "metadata": {},
   "outputs": [
    {
     "data": {
      "text/plain": [
       "'Data-centric AI is a type of AI that focuses on modifying the data set, either by removing bad data or generating more data that can reduce the error rate. It is contrasted with model-centric AI, which focuses on modifying the model itself.'"
      ]
     },
     "execution_count": 9,
     "metadata": {},
     "output_type": "execute_result"
    }
   ],
   "source": [
    "answer"
   ]
  },
  {
   "cell_type": "code",
   "execution_count": null,
   "metadata": {},
   "outputs": [],
   "source": []
  }
 ],
 "metadata": {
  "kernelspec": {
   "display_name": "knowledgegpt-env",
   "language": "python",
   "name": "python3"
  },
  "language_info": {
   "codemirror_mode": {
    "name": "ipython",
    "version": 3
   },
   "file_extension": ".py",
   "mimetype": "text/x-python",
   "name": "python",
   "nbconvert_exporter": "python",
   "pygments_lexer": "ipython3",
   "version": "3.9.16"
  },
  "orig_nbformat": 4
 },
 "nbformat": 4,
 "nbformat_minor": 2
}
