{
 "cells": [
  {
   "cell_type": "code",
   "execution_count": 1,
   "metadata": {},
   "outputs": [],
   "source": [
    "import openai\n",
    "from config import SECRET_KEY\n",
    "openai.api_key = SECRET_KEY"
   ]
  },
  {
   "cell_type": "code",
   "execution_count": 2,
   "metadata": {},
   "outputs": [],
   "source": [
    "from knowledgegpt.extractors.yt_subs_extractor import YTSubsExtractor"
   ]
  },
  {
   "cell_type": "code",
   "execution_count": 3,
   "metadata": {},
   "outputs": [],
   "source": [
    "url = \"https://www.youtube.com/watch?v=ayzOzZGHZy4\"\n",
    "query = \"What is data centric AI?\""
   ]
  },
  {
   "cell_type": "code",
   "execution_count": 4,
   "metadata": {},
   "outputs": [],
   "source": [
    "from config import MONGO_URI\n",
    "from pymongo import MongoClient\n",
    "\n",
    "client  = MongoClient(MONGO_URI)\n",
    "db = client.openai_test"
   ]
  },
  {
   "cell_type": "code",
   "execution_count": 5,
   "metadata": {},
   "outputs": [],
   "source": [
    "scrape_yt_subs = YTSubsExtractor(db, model_lang='tr', embedding_extractor='hf')"
   ]
  },
  {
   "cell_type": "code",
   "execution_count": 6,
   "metadata": {},
   "outputs": [
    {
     "name": "stdout",
     "output_type": "stream",
     "text": [
      "Extracting text...\n",
      "[youtube] Extracting URL: https://www.youtube.com/watch?v=ayzOzZGHZy4\n",
      "[youtube] ayzOzZGHZy4: Downloading webpage\n",
      "[youtube] ayzOzZGHZy4: Downloading android player API JSON\n",
      "[info] ayzOzZGHZy4: Downloading subtitles: en\n",
      "[youtube] Extracting URL: https://www.youtube.com/watch?v=ayzOzZGHZy4\n",
      "[youtube] ayzOzZGHZy4: Downloading webpage\n",
      "[youtube] ayzOzZGHZy4: Downloading android player API JSON\n",
      "[info] ayzOzZGHZy4: Downloading subtitles: en\n",
      "[info] ayzOzZGHZy4: Downloading 1 format(s): 248+251\n",
      "Deleting existing file Lecture 1： Data-Centric AI vs. Model-Centric AI [ayzOzZGHZy4].en.vtt\n",
      "[info] Writing video subtitles to: Lecture 1： Data-Centric AI vs. Model-Centric AI [ayzOzZGHZy4].en.vtt\n",
      "[download] Destination: Lecture 1： Data-Centric AI vs. Model-Centric AI [ayzOzZGHZy4].en.vtt\n",
      "[download] 100% of   66.31KiB in 00:00:00 at 463.03KiB/s\n",
      "[download] Lecture 1： Data-Centric AI vs. Model-Centric AI [ayzOzZGHZy4].webm has already been downloaded\n"
     ]
    },
    {
     "ename": "FileNotFoundError",
     "evalue": "[Errno 2] No such file or directory: 'ayzOzZGHZy4.en.vtt'",
     "output_type": "error",
     "traceback": [
      "\u001b[0;31m---------------------------------------------------------------------------\u001b[0m",
      "\u001b[0;31mFileNotFoundError\u001b[0m                         Traceback (most recent call last)",
      "Cell \u001b[0;32mIn[6], line 1\u001b[0m\n\u001b[0;32m----> 1\u001b[0m answer, prompt, messages \u001b[39m=\u001b[39m scrape_yt_subs\u001b[39m.\u001b[39;49mextract(video_id\u001b[39m=\u001b[39;49murl, query\u001b[39m=\u001b[39;49mquery, max_tokens\u001b[39m=\u001b[39;49m\u001b[39m1200\u001b[39;49m, to_save\u001b[39m=\u001b[39;49m\u001b[39mTrue\u001b[39;49;00m)\n",
      "File \u001b[0;32m~/miniconda3/envs/knowledgegpt-env/lib/python3.9/site-packages/knowledgegpt/extractors/yt_subs_extractor.py:69\u001b[0m, in \u001b[0;36mYTSubsExtractor.extract\u001b[0;34m(self, video_id, query, max_tokens, to_save)\u001b[0m\n\u001b[1;32m     67\u001b[0m     \u001b[39mraise\u001b[39;00m \u001b[39mValueError\u001b[39;00m(\u001b[39m\"\u001b[39m\u001b[39mVideo ID is missing\u001b[39m\u001b[39m\"\u001b[39m)\n\u001b[1;32m     68\u001b[0m \u001b[39mif\u001b[39;00m \u001b[39mself\u001b[39m\u001b[39m.\u001b[39mdf \u001b[39mis\u001b[39;00m \u001b[39mNone\u001b[39;00m:\n\u001b[0;32m---> 69\u001b[0m     \u001b[39mself\u001b[39m\u001b[39m.\u001b[39mdf \u001b[39m=\u001b[39m scrape_youtube(video_id)\n\u001b[1;32m     71\u001b[0m \u001b[39mif\u001b[39;00m \u001b[39mself\u001b[39m\u001b[39m.\u001b[39membeddings \u001b[39mis\u001b[39;00m \u001b[39mNone\u001b[39;00m:\n\u001b[1;32m     72\u001b[0m     \u001b[39mprint\u001b[39m(\u001b[39m\"\u001b[39m\u001b[39mComputing embeddings...\u001b[39m\u001b[39m\"\u001b[39m)\n",
      "File \u001b[0;32m~/miniconda3/envs/knowledgegpt-env/lib/python3.9/site-packages/knowledgegpt/utils/utils_subtitles.py:31\u001b[0m, in \u001b[0;36mscrape_youtube\u001b[0;34m(url)\u001b[0m\n\u001b[1;32m     28\u001b[0m     ydl\u001b[39m.\u001b[39mdownload([url])\n\u001b[1;32m     30\u001b[0m \u001b[39m# Read the subtitles from the file\u001b[39;00m\n\u001b[0;32m---> 31\u001b[0m \u001b[39mwith\u001b[39;00m \u001b[39mopen\u001b[39;49m(\u001b[39mf\u001b[39;49m\u001b[39m\"\u001b[39;49m\u001b[39m{\u001b[39;49;00mvideo_id\u001b[39m}\u001b[39;49;00m\u001b[39m.en.vtt\u001b[39;49m\u001b[39m\"\u001b[39;49m, \u001b[39m'\u001b[39;49m\u001b[39mr\u001b[39;49m\u001b[39m'\u001b[39;49m) \u001b[39mas\u001b[39;00m f:\n\u001b[1;32m     32\u001b[0m     subtitles \u001b[39m=\u001b[39m f\u001b[39m.\u001b[39mread()\n\u001b[1;32m     34\u001b[0m \u001b[39m# Convert the subtitles to plain text and remove timestamps (THIS PART IS NOT WORKING)\u001b[39;00m\n",
      "\u001b[0;31mFileNotFoundError\u001b[0m: [Errno 2] No such file or directory: 'ayzOzZGHZy4.en.vtt'"
     ]
    }
   ],
   "source": [
    "answer, prompt, messages = scrape_yt_subs.extract(video_id=url, query=query, max_tokens=1200, to_save=True)"
   ]
  },
  {
   "cell_type": "code",
   "execution_count": null,
   "metadata": {},
   "outputs": [
    {
     "data": {
      "text/plain": [
       "'Michael Jordan.'"
      ]
     },
     "execution_count": 22,
     "metadata": {},
     "output_type": "execute_result"
    }
   ],
   "source": [
    "answer"
   ]
  },
  {
   "cell_type": "code",
   "execution_count": null,
   "metadata": {},
   "outputs": [
    {
     "name": "stdout",
     "output_type": "stream",
     "text": [
      "Transcribing audio...\n",
      "Extracting text...\n",
      "Computing embeddings...\n",
      "Answering query...\n",
      "model_lang tr\n",
      "Selected 39 document sections:\n",
      "38\n",
      "61\n",
      "115\n",
      "66\n",
      "29\n",
      "88\n",
      "30\n",
      "24\n",
      "126\n",
      "28\n",
      "121\n",
      "69\n",
      "104\n",
      "40\n",
      "82\n",
      "123\n",
      "33\n",
      "119\n",
      "142\n",
      "127\n",
      "124\n",
      "130\n",
      "89\n",
      "77\n",
      "95\n",
      "25\n",
      "14\n",
      "46\n",
      "0\n",
      "141\n",
      "11\n",
      "8\n",
      "144\n",
      "98\n",
      "59\n",
      "73\n",
      "102\n",
      "85\n",
      "145\n",
      "Cümleyi doğru bir şekilde cevaplayın ve cevap metin içinde yoksa \"bilmiyorum\" diyin.\n",
      "\n",
      "Metin:\n",
      "\n",
      "* Yani şimdi NBA tarihinin gelmiş geçmiş en iyi oyun kurucusu 13 sezon 12 kez All-Star, 4 kez asist kralı, 2 kez top çalma kralı, 3 kez MVP, 2 kez de ikinci oldu, 3 kez de final MVP'si.\n",
      "* 3 kez şampiyonluk, 2 kez final MVP'si, 3 kez lig MVP'si, 9 kez NBA'in en iyi 5'i, 4 kez de MVP ikincisi.\n",
      "* O zaman basketbol çok daha farklı oynanıyordu.\n",
      "* Bence gelmiş geçmiş en iyi beyaz oyuncu.\n",
      "* 2 kez de NBA'in en iyi savunma beşine çünkü o pozisyonu genelde Bill Russell alabiliyordu.\n",
      "* Şimdi LeBron James'i içeride diyecek ki LeBron hiç öyle bir uzunluğa oynamadı.\n",
      "* Resmi olmasa da quintel double yapan tek oyuncu ve o quintel double maçının scout'unu tutan arkadaş Harvey Pollack da ölene kadar NBA'i scouting ve statistics sisteminin danışmanıydı.\n",
      "* 2 NBA şampiyonluğu, 1 kez final MVP'si, 4 kez lig MVP'si, 2 kez ikinci bitirdi.\n",
      "* Yani daha NBA izini çıkmadan.\n",
      "* 7 kez NBA'in en iyi beşine seçildi.\n",
      "* 10 kez NBA'in en iyi 5'i.\n",
      "* 1 numara beni izleyenler zaten tahmin ediyor ama 3 numaraya, yani LeBron James'in ben şey huyunun ona çok puan kaybettirdiğini düşünüyorum.\n",
      "* 6 finalinde MVP'si oldu.\n",
      "* 5 NBA şampiyonluğu 9 kez de NBA'nin en iyi 5'i.\n",
      "* LeBron James 4 kez final MVP'si oldu.\n",
      "* 10 kez sayı kralı oldu.\n",
      "* 59 sayı, 32 rebound, 14 asist, 24 blok ve 11 top çalma ve biz onu 6.'ya koyuyoruz.\n",
      "* Ya Jordan sakatlanırsa ne olacak bu NBA'in hali diye.\n",
      "* 28 playoff maçında Luca Doncic.\n",
      "* 1988 yılında MVP yılın savunmacısı ve sayı kralı oldu.\n",
      "* 6 NBA, 1 NCAA şampiyonluğu var, 2 de altın madalyası.\n",
      "* Genel şık yüzdesi 5.5 rebound, 5.9 asist, 3.2 top çalma.\n",
      "* Tamam Anthony Davis güzel hoş da.\n",
      "* Ondan ben LeBron'u 3.ye koyacağım.\n",
      "* Ve o 2 şampiyonlukta da final MVP'si oldu.\n",
      "* 7 kez sayı kralı, 11 kez rebound kralı ve 1 kez de asist kralı.\n",
      "* LeBron James ve Kobe Bryant, Michael Jordan, Magic Johnson, Larry Bird ve Wild Chamberlain.\n",
      "* James Worthy.\n",
      "* Merhaba sevgili NBA severler, yeni kanalımıza hoş geldiniz NBA Digitale.\n",
      "* 179 playoff maçında bu ortalamayı tutturmuş Michael Jordan.\n",
      "* Ve hücumda hakikaten The Goat Of All Time olmayı çok da hak etmiyordu ama reboundlarda, savunmada, takım oyununda muhteşemdi.\n",
      "* Bill Russell, Aki Malajuan, Jerry West, Elgin Baylor, Oscar Robertson, Hondo Pavlocek.\n",
      "* LeBron'ın 28.7 playoff ortalaması, Kobe'nin 25.6 playoff ortalaması.\n",
      "* Tabii ki birinci sırada Michael Jordan var.\n",
      "* 12 kez All-Star seçildi.\n",
      "* Yaşlanmış tecrübeli bir yıldızın buyout'unu başka bir takım kullanıyor, onu serbest bırakıyor.\n",
      "* Michael Jordan 6 kez final oynadı.\n",
      "* Kobe Bryant, Şak'ın Moses Malone gibi olduğu dönemde oynuyordu.\n",
      "* Şu an izninizle The Goat, Michael Jordan.\n",
      "\n",
      " Q: Basketbolda gelmis gecmis en iyi oyuncu kim?\n",
      " A:\n",
      "Done!\n"
     ]
    }
   ],
   "source": [
    "answer, prompt, messages = scrape_yt_subs.extract(video_id=url, query=query, max_tokens=1200, to_save=True)"
   ]
  },
  {
   "cell_type": "code",
   "execution_count": null,
   "metadata": {},
   "outputs": [
    {
     "data": {
      "text/plain": [
       "'Michael Jordan.'"
      ]
     },
     "execution_count": 24,
     "metadata": {},
     "output_type": "execute_result"
    }
   ],
   "source": [
    "answer"
   ]
  },
  {
   "cell_type": "code",
   "execution_count": null,
   "metadata": {},
   "outputs": [],
   "source": []
  }
 ],
 "metadata": {
  "kernelspec": {
   "display_name": "knowledgegpt-env",
   "language": "python",
   "name": "python3"
  },
  "language_info": {
   "codemirror_mode": {
    "name": "ipython",
    "version": 3
   },
   "file_extension": ".py",
   "mimetype": "text/x-python",
   "name": "python",
   "nbconvert_exporter": "python",
   "pygments_lexer": "ipython3",
   "version": "3.9.16"
  },
  "orig_nbformat": 4
 },
 "nbformat": 4,
 "nbformat_minor": 2
}
